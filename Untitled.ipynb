{
 "cells": [
  {
   "cell_type": "code",
   "execution_count": 1,
   "id": "af5014e6",
   "metadata": {},
   "outputs": [],
   "source": [
    "import pandas as pd\n",
    "import numpy as np\n",
    "import matplotlib.pyplot as plt\n",
    "import seaborn as sns\n",
    "import math"
   ]
  },
  {
   "cell_type": "code",
   "execution_count": 2,
   "id": "dd355e70",
   "metadata": {},
   "outputs": [],
   "source": [
    "df = pd.read_csv(\"Downloads/csv_pus/psam_pusb.csv\")"
   ]
  },
  {
   "cell_type": "code",
   "execution_count": 3,
   "id": "dfa5d7ea",
   "metadata": {},
   "outputs": [],
   "source": [
    "VarB = df.loc[:, [\"AGEP\",\"DEYE\"]]"
   ]
  },
  {
   "cell_type": "code",
   "execution_count": 4,
   "id": "15f16975",
   "metadata": {},
   "outputs": [
    {
     "data": {
      "text/plain": [
       "(1580745, 2)"
      ]
     },
     "execution_count": 4,
     "metadata": {},
     "output_type": "execute_result"
    }
   ],
   "source": [
    "VarB.shape"
   ]
  },
  {
   "cell_type": "code",
   "execution_count": 5,
   "id": "3c659b34",
   "metadata": {},
   "outputs": [],
   "source": [
    "df1 = pd.read_csv(\"Downloads/csv_pus/psam_pusa.csv\")"
   ]
  },
  {
   "cell_type": "code",
   "execution_count": 6,
   "id": "6da3e9c8",
   "metadata": {},
   "outputs": [],
   "source": [
    "VarA = df1.loc[:,[\"AGEP\", \"DEYE\"]]"
   ]
  },
  {
   "cell_type": "code",
   "execution_count": 7,
   "id": "bde1ed31",
   "metadata": {},
   "outputs": [
    {
     "data": {
      "text/plain": [
       "(1658808, 2)"
      ]
     },
     "execution_count": 7,
     "metadata": {},
     "output_type": "execute_result"
    }
   ],
   "source": [
    "VarA.shape"
   ]
  },
  {
   "cell_type": "code",
   "execution_count": 8,
   "id": "2f2ff164",
   "metadata": {},
   "outputs": [],
   "source": [
    "frames = [VarA, VarB]\n",
    "df_age = pd.concat(frames)"
   ]
  },
  {
   "cell_type": "code",
   "execution_count": 9,
   "id": "edcf191a",
   "metadata": {},
   "outputs": [
    {
     "data": {
      "text/plain": [
       "(3239553, 2)"
      ]
     },
     "execution_count": 9,
     "metadata": {},
     "output_type": "execute_result"
    }
   ],
   "source": [
    "df_age.shape"
   ]
  },
  {
   "cell_type": "code",
   "execution_count": 20,
   "id": "cc6f5b80",
   "metadata": {
    "scrolled": true
   },
   "outputs": [],
   "source": [
    "df_age1 = df_age.dropna(subset = [\"AGEP\"])\n"
   ]
  },
  {
   "cell_type": "code",
   "execution_count": 21,
   "id": "80727eaf",
   "metadata": {},
   "outputs": [
    {
     "data": {
      "text/plain": [
       "(3239553, 2)"
      ]
     },
     "execution_count": 21,
     "metadata": {},
     "output_type": "execute_result"
    }
   ],
   "source": [
    "df_age1.shape"
   ]
  },
  {
   "cell_type": "code",
   "execution_count": 10,
   "id": "f54e4e4a",
   "metadata": {},
   "outputs": [],
   "source": [
    "deye = {1: 'yes', 2:'no'}\n",
    "df_age[\"DEYE\"] = df_age[\"DEYE\"].map(deye) "
   ]
  },
  {
   "cell_type": "code",
   "execution_count": 14,
   "id": "68315d74",
   "metadata": {},
   "outputs": [
    {
     "data": {
      "text/plain": [
       "Text(0, 0.5, 'Age')"
      ]
     },
     "execution_count": 14,
     "metadata": {},
     "output_type": "execute_result"
    },
    {
     "data": {
      "image/png": "[encoded data removed]",
      "text/plain": [
       "<Figure size 648x432 with 1 Axes>"
      ]
     },
     "metadata": {
      "needs_background": "light"
     },
     "output_type": "display_data"
    }
   ],
   "source": [
    "plt.figure(figsize=(9,6))\n",
    "sns.boxplot(x='DEYE',y='AGEP',data=df_age, showmeans=True, meanprops={\"marker\":\"o\", \n",
    "                                                                      \"markerfacecolor\":\"white\",\n",
    "                                                                      \"markeredgecolor\":\"black\",\n",
    "                                                                     \"markersize\":\"10\"})\n",
    "plt.title(\"Age distribution by vision difficulty\")\n",
    "plt.xlabel(\"Presence of vision difficulty\")\n",
    "plt.ylabel(\"Age\")\n"
   ]
  },
  {
   "cell_type": "code",
   "execution_count": 15,
   "id": "b1d7faf7",
   "metadata": {},
   "outputs": [],
   "source": [
    "vision = df_age[\"DEYE\"].value_counts()"
   ]
  },
  {
   "cell_type": "code",
   "execution_count": 16,
   "id": "1148299f",
   "metadata": {},
   "outputs": [
    {
     "data": {
      "text/plain": [
       "no     3156559\n",
       "yes      82994\n",
       "Name: DEYE, dtype: int64"
      ]
     },
     "execution_count": 16,
     "metadata": {},
     "output_type": "execute_result"
    }
   ],
   "source": [
    "vision"
   ]
  },
  {
   "cell_type": "code",
   "execution_count": 18,
   "id": "efae1b40",
   "metadata": {},
   "outputs": [
    {
     "data": {
      "image/png": "[encoded data removed]",
      "text/plain": [
       "<Figure size 432x288 with 1 Axes>"
      ]
     },
     "metadata": {},
     "output_type": "display_data"
    }
   ],
   "source": [
    "plt.pie(vision,labels=vision.index,autopct='%1.1f%%')\n",
    "\n",
    "plt.title(\"Percentage of Vision Difficulty in the population\")\n",
    "plt.show()"
   ]
  },
  {
   "cell_type": "code",
   "execution_count": 7,
   "id": "715b8f6e",
   "metadata": {},
   "outputs": [
    {
     "data": {
      "image/png": "[encoded data removed]",
      "text/plain": [
       "<Figure size 432x288 with 1 Axes>"
      ]
     },
     "metadata": {},
     "output_type": "display_data"
    }
   ],
   "source": [
    "import matplotlib.pyplot as plt\n",
    "# Pie chart\n",
    "labels = ['Vision difficulty', 'No vision difficulty']\n",
    "sizes = [2.6, 97.4]\n",
    "#colors\n",
    "colors = ['#ff9999','#66b3ff']#,'#99ff99','#ffcc99']\n",
    " \n",
    "fig1, ax1 = plt.subplots()\n",
    "ax1.pie(sizes, colors = colors, labels=labels, autopct='%1.1f%%', startangle=90, pctdistance=0.85)\n",
    "#draw circle\n",
    "centre_circle = plt.Circle((0,0),0.70,fc='white')\n",
    "fig = plt.gcf()\n",
    "fig.gca().add_artist(centre_circle)\n",
    "# Equal aspect ratio ensures that pie is drawn as a circle\n",
    "ax1.axis('equal')  \n",
    "plt.tight_layout()\n",
    "plt.show()"
   ]
  },
  {
   "cell_type": "code",
   "execution_count": null,
   "id": "1bfeb758",
   "metadata": {},
   "outputs": [],
   "source": [
    "import matplotlib.pyplot as plt\n",
    " \n",
    "# Data to plot\n",
    "labels = ['Python', 'C++', 'Ruby', 'Java']\n",
    "sizes = [504, 337, 415, 280]\n",
    "labels_gender = ['Man','Woman','Man','Woman','Man','Woman','Man','Woman']\n",
    "sizes_gender = [315,189,125,212,270,145,190,90]\n",
    "colors = ['#ff6666', '#ffcc99', '#99ff99', '#66b3ff']\n",
    "colors_gender = ['#c2c2f0','#ffb3e6', '#c2c2f0','#ffb3e6', '#c2c2f0','#ffb3e6', '#c2c2f0','#ffb3e6']\n",
    "explode = (0.2,0.2,0.2,0.2) \n",
    "explode_gender = (0.1,0.1,0.1,0.1,0.1,0.1,0.1,0.1)\n",
    "#Plot\n",
    "plt.pie(sizes, labels=labels, colors=colors, startangle=90,frame=True, explode=explode,radius=3)\n",
    "plt.pie(sizes_gender,colors=colors_gender,startangle=90, explode=explode_gender,radius=2 )\n",
    "#Draw circle\n",
    "centre_circle = plt.Circle((0,0),1.5,color='black', fc='white',linewidth=0)\n",
    "fig = plt.gcf()\n",
    "fig.gca().add_artist(centre_circle)\n",
    " \n",
    "plt.axis('equal')\n",
    "plt.tight_layout()\n",
    "plt.show()"
   ]
  }
 ],
 "metadata": {
  "kernelspec": {
   "display_name": "Python 3 (ipykernel)",
   "language": "python",
   "name": "python3"
  },
  "language_info": {
   "codemirror_mode": {
    "name": "ipython",
    "version": 3
   },
   "file_extension": ".py",
   "mimetype": "text/x-python",
   "name": "python",
   "nbconvert_exporter": "python",
   "pygments_lexer": "ipython3",
   "version": "3.9.7"
  }
 },
 "nbformat": 4,
 "nbformat_minor": 5
}
