{
 "cells": [
  {
   "cell_type": "code",
   "execution_count": 1,
   "id": "ca020994",
   "metadata": {},
   "outputs": [],
   "source": [
    "import pandas as pd\n",
    "import numpy as np\n",
    "import matplotlib.pyplot as plt\n",
    "import seaborn as sns\n",
    "import math"
   ]
  },
  {
   "cell_type": "code",
   "execution_count": 2,
   "id": "eda5b93b",
   "metadata": {},
   "outputs": [],
   "source": [
    "df = pd.read_csv(\"Downloads/csv_pus/psam_pusb.csv\")"
   ]
  },
  {
   "cell_type": "code",
   "execution_count": 3,
   "id": "1c21b54d",
   "metadata": {
    "scrolled": true
   },
   "outputs": [
    {
     "data": {
      "text/html": [
       "<div>\n",
       "<style scoped>\n",
       "    .dataframe tbody tr th:only-of-type {\n",
       "        vertical-align: middle;\n",
       "    }\n",
       "\n",
       "    .dataframe tbody tr th {\n",
       "        vertical-align: top;\n",
       "    }\n",
       "\n",
       "    .dataframe thead th {\n",
       "        text-align: right;\n",
       "    }\n",
       "</style>\n",
       "<table border=\"1\" class=\"dataframe\">\n",
       "  <thead>\n",
       "    <tr style=\"text-align: right;\">\n",
       "      <th></th>\n",
       "      <th>RT</th>\n",
       "      <th>SERIALNO</th>\n",
       "      <th>DIVISION</th>\n",
       "      <th>SPORDER</th>\n",
       "      <th>PUMA</th>\n",
       "      <th>REGION</th>\n",
       "      <th>ST</th>\n",
       "      <th>ADJINC</th>\n",
       "      <th>PWGTP</th>\n",
       "      <th>AGEP</th>\n",
       "      <th>...</th>\n",
       "      <th>PWGTP71</th>\n",
       "      <th>PWGTP72</th>\n",
       "      <th>PWGTP73</th>\n",
       "      <th>PWGTP74</th>\n",
       "      <th>PWGTP75</th>\n",
       "      <th>PWGTP76</th>\n",
       "      <th>PWGTP77</th>\n",
       "      <th>PWGTP78</th>\n",
       "      <th>PWGTP79</th>\n",
       "      <th>PWGTP80</th>\n",
       "    </tr>\n",
       "  </thead>\n",
       "  <tbody>\n",
       "    <tr>\n",
       "      <th>1203102</th>\n",
       "      <td>P</td>\n",
       "      <td>2019HU0919337</td>\n",
       "      <td>7</td>\n",
       "      <td>4</td>\n",
       "      <td>2600</td>\n",
       "      <td>3</td>\n",
       "      <td>48</td>\n",
       "      <td>1010145</td>\n",
       "      <td>40</td>\n",
       "      <td>15</td>\n",
       "      <td>...</td>\n",
       "      <td>29</td>\n",
       "      <td>17</td>\n",
       "      <td>48</td>\n",
       "      <td>56</td>\n",
       "      <td>40</td>\n",
       "      <td>52</td>\n",
       "      <td>60</td>\n",
       "      <td>22</td>\n",
       "      <td>41</td>\n",
       "      <td>58</td>\n",
       "    </tr>\n",
       "    <tr>\n",
       "      <th>1077579</th>\n",
       "      <td>P</td>\n",
       "      <td>2019HU0239964</td>\n",
       "      <td>7</td>\n",
       "      <td>1</td>\n",
       "      <td>4636</td>\n",
       "      <td>3</td>\n",
       "      <td>48</td>\n",
       "      <td>1010145</td>\n",
       "      <td>106</td>\n",
       "      <td>37</td>\n",
       "      <td>...</td>\n",
       "      <td>32</td>\n",
       "      <td>108</td>\n",
       "      <td>106</td>\n",
       "      <td>30</td>\n",
       "      <td>108</td>\n",
       "      <td>29</td>\n",
       "      <td>187</td>\n",
       "      <td>180</td>\n",
       "      <td>102</td>\n",
       "      <td>111</td>\n",
       "    </tr>\n",
       "    <tr>\n",
       "      <th>1377807</th>\n",
       "      <td>P</td>\n",
       "      <td>2019HU0696430</td>\n",
       "      <td>5</td>\n",
       "      <td>4</td>\n",
       "      <td>51164</td>\n",
       "      <td>3</td>\n",
       "      <td>51</td>\n",
       "      <td>1010145</td>\n",
       "      <td>78</td>\n",
       "      <td>7</td>\n",
       "      <td>...</td>\n",
       "      <td>76</td>\n",
       "      <td>118</td>\n",
       "      <td>80</td>\n",
       "      <td>20</td>\n",
       "      <td>118</td>\n",
       "      <td>63</td>\n",
       "      <td>128</td>\n",
       "      <td>87</td>\n",
       "      <td>24</td>\n",
       "      <td>127</td>\n",
       "    </tr>\n",
       "    <tr>\n",
       "      <th>1139376</th>\n",
       "      <td>P</td>\n",
       "      <td>2019HU0575631</td>\n",
       "      <td>7</td>\n",
       "      <td>1</td>\n",
       "      <td>4629</td>\n",
       "      <td>3</td>\n",
       "      <td>48</td>\n",
       "      <td>1010145</td>\n",
       "      <td>106</td>\n",
       "      <td>47</td>\n",
       "      <td>...</td>\n",
       "      <td>31</td>\n",
       "      <td>110</td>\n",
       "      <td>32</td>\n",
       "      <td>197</td>\n",
       "      <td>108</td>\n",
       "      <td>33</td>\n",
       "      <td>29</td>\n",
       "      <td>107</td>\n",
       "      <td>105</td>\n",
       "      <td>105</td>\n",
       "    </tr>\n",
       "    <tr>\n",
       "      <th>1337583</th>\n",
       "      <td>P</td>\n",
       "      <td>2019GQ0124011</td>\n",
       "      <td>5</td>\n",
       "      <td>1</td>\n",
       "      <td>51105</td>\n",
       "      <td>3</td>\n",
       "      <td>51</td>\n",
       "      <td>1010145</td>\n",
       "      <td>31</td>\n",
       "      <td>51</td>\n",
       "      <td>...</td>\n",
       "      <td>31</td>\n",
       "      <td>51</td>\n",
       "      <td>5</td>\n",
       "      <td>6</td>\n",
       "      <td>30</td>\n",
       "      <td>29</td>\n",
       "      <td>52</td>\n",
       "      <td>31</td>\n",
       "      <td>29</td>\n",
       "      <td>29</td>\n",
       "    </tr>\n",
       "  </tbody>\n",
       "</table>\n",
       "<p>5 rows × 288 columns</p>\n",
       "</div>"
      ],
      "text/plain": [
       "        RT       SERIALNO  DIVISION  SPORDER   PUMA  REGION  ST   ADJINC  \\\n",
       "1203102  P  2019HU0919337         7        4   2600       3  48  1010145   \n",
       "1077579  P  2019HU0239964         7        1   4636       3  48  1010145   \n",
       "1377807  P  2019HU0696430         5        4  51164       3  51  1010145   \n",
       "1139376  P  2019HU0575631         7        1   4629       3  48  1010145   \n",
       "1337583  P  2019GQ0124011         5        1  51105       3  51  1010145   \n",
       "\n",
       "         PWGTP  AGEP  ...  PWGTP71  PWGTP72  PWGTP73  PWGTP74  PWGTP75  \\\n",
       "1203102     40    15  ...       29       17       48       56       40   \n",
       "1077579    106    37  ...       32      108      106       30      108   \n",
       "1377807     78     7  ...       76      118       80       20      118   \n",
       "1139376    106    47  ...       31      110       32      197      108   \n",
       "1337583     31    51  ...       31       51        5        6       30   \n",
       "\n",
       "         PWGTP76  PWGTP77  PWGTP78  PWGTP79  PWGTP80  \n",
       "1203102       52       60       22       41       58  \n",
       "1077579       29      187      180      102      111  \n",
       "1377807       63      128       87       24      127  \n",
       "1139376       33       29      107      105      105  \n",
       "1337583       29       52       31       29       29  \n",
       "\n",
       "[5 rows x 288 columns]"
      ]
     },
     "execution_count": 3,
     "metadata": {},
     "output_type": "execute_result"
    }
   ],
   "source": [
    "df.sample(5)"
   ]
  },
  {
   "cell_type": "code",
   "execution_count": 4,
   "id": "dbba7c58",
   "metadata": {},
   "outputs": [
    {
     "data": {
      "text/plain": [
       "P    1580745\n",
       "Name: RT, dtype: int64"
      ]
     },
     "execution_count": 4,
     "metadata": {},
     "output_type": "execute_result"
    }
   ],
   "source": [
    "df[\"RT\"].value_counts()"
   ]
  },
  {
   "cell_type": "code",
   "execution_count": 5,
   "id": "00161e0c",
   "metadata": {
    "scrolled": true
   },
   "outputs": [
    {
     "data": {
      "text/plain": [
       "Index(['RT', 'SERIALNO', 'DIVISION', 'SPORDER', 'PUMA', 'REGION', 'ST',\n",
       "       'ADJINC', 'PWGTP', 'AGEP',\n",
       "       ...\n",
       "       'PWGTP71', 'PWGTP72', 'PWGTP73', 'PWGTP74', 'PWGTP75', 'PWGTP76',\n",
       "       'PWGTP77', 'PWGTP78', 'PWGTP79', 'PWGTP80'],\n",
       "      dtype='object', length=288)"
      ]
     },
     "execution_count": 5,
     "metadata": {},
     "output_type": "execute_result"
    }
   ],
   "source": [
    "df.columns"
   ]
  },
  {
   "cell_type": "code",
   "execution_count": 6,
   "id": "e8c11fe8",
   "metadata": {},
   "outputs": [
    {
     "data": {
      "text/plain": [
       "2    1539865\n",
       "1      40880\n",
       "Name: DEYE, dtype: int64"
      ]
     },
     "execution_count": 6,
     "metadata": {},
     "output_type": "execute_result"
    }
   ],
   "source": [
    "df[\"DEYE\"].value_counts()"
   ]
  },
  {
   "cell_type": "code",
   "execution_count": 7,
   "id": "881d0a10",
   "metadata": {},
   "outputs": [],
   "source": [
    "Var = df.loc[:, [\"REGION\",\"DIVISION\", \"ST\", \"AGEP\", \"COW\", \"DEYE\", \"NWAV\", \"NWLA\", \"NWLK\", \"SCH\", \"SCHG\", \"SCHL\", \n",
    "           \"SEX\", \"WKL\", \"DIS\", \"ESR\", \"FOD1P\", \"FOD2P\", \"HICOV\", \"INDP\", \"NAICSP\", \"OCCP\", \"PERNP\", \"PINCP\",\n",
    "          \"POWSP\", \"RAC1P\", \"RAC2P\", \"RAC3P\", \"RACAIAN\", \"RACASN\", \"RACBLK\", \"RACWHT\", \"SCIENGP\", \"SCIENGRLP\",\n",
    "          \"SOCP\", \"FDEYEP\", \"ADJINC\", \"DDRS\", \"DEAR\", \"DOUT\", \"DPHY\", \"HINS4\", \"OIP\", \"PAP\", \"RETP\", \"SEMP\", \"SSIP\", \n",
    "         \"SSP\", \"WAGP\",\"PWGTP\"]]"
   ]
  },
  {
   "cell_type": "code",
   "execution_count": 8,
   "id": "c29e860b",
   "metadata": {},
   "outputs": [
    {
     "data": {
      "text/plain": [
       "(1580745, 50)"
      ]
     },
     "execution_count": 8,
     "metadata": {},
     "output_type": "execute_result"
    }
   ],
   "source": [
    "Var.shape"
   ]
  },
  {
   "cell_type": "code",
   "execution_count": 9,
   "id": "ba404dfa",
   "metadata": {},
   "outputs": [],
   "source": [
    "#removing rows by filtering\n",
    "Var = Var[Var['DEYE'] != 2]"
   ]
  },
  {
   "cell_type": "code",
   "execution_count": 10,
   "id": "7fe705cd",
   "metadata": {},
   "outputs": [
    {
     "data": {
      "text/plain": [
       "(40880, 50)"
      ]
     },
     "execution_count": 10,
     "metadata": {},
     "output_type": "execute_result"
    }
   ],
   "source": [
    "Var.shape"
   ]
  },
  {
   "cell_type": "code",
   "execution_count": 11,
   "id": "1108d488",
   "metadata": {},
   "outputs": [],
   "source": [
    "Var.to_csv(\"psam_pusb_data_working.csv\")"
   ]
  },
  {
   "cell_type": "code",
   "execution_count": 12,
   "id": "1152be5c",
   "metadata": {},
   "outputs": [],
   "source": [
    "dfa = pd.read_csv(\"psam_pusb_data_working.csv\")"
   ]
  },
  {
   "cell_type": "code",
   "execution_count": 13,
   "id": "e6302730",
   "metadata": {},
   "outputs": [],
   "source": [
    "dfb = pd.read_csv(\"psam_pusa_data_working.csv\")"
   ]
  },
  {
   "cell_type": "code",
   "execution_count": 14,
   "id": "aea5f8f2",
   "metadata": {},
   "outputs": [],
   "source": [
    "frames = [dfa, dfb]\n",
    "df_total = pd.concat(frames)"
   ]
  },
  {
   "cell_type": "code",
   "execution_count": 15,
   "id": "2c730c38",
   "metadata": {},
   "outputs": [
    {
     "data": {
      "text/plain": [
       "(82994, 51)"
      ]
     },
     "execution_count": 15,
     "metadata": {},
     "output_type": "execute_result"
    }
   ],
   "source": [
    "df_total.shape"
   ]
  },
  {
   "cell_type": "code",
   "execution_count": 16,
   "id": "86462ffc",
   "metadata": {},
   "outputs": [],
   "source": [
    "df_total.to_csv(\"psam_pusab_working_data.csv\")"
   ]
  },
  {
   "cell_type": "code",
   "execution_count": null,
   "id": "28af4893",
   "metadata": {},
   "outputs": [],
   "source": []
  }
 ],
 "metadata": {
  "kernelspec": {
   "display_name": "Python 3 (ipykernel)",
   "language": "python",
   "name": "python3"
  },
  "language_info": {
   "codemirror_mode": {
    "name": "ipython",
    "version": 3
   },
   "file_extension": ".py",
   "mimetype": "text/x-python",
   "name": "python",
   "nbconvert_exporter": "python",
   "pygments_lexer": "ipython3",
   "version": "3.9.7"
  }
 },
 "nbformat": 4,
 "nbformat_minor": 5
}
