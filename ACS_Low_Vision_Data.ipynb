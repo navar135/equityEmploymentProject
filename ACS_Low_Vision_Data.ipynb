{
 "cells": [
  {
   "cell_type": "code",
   "execution_count": 1,
   "id": "2b9a6812",
   "metadata": {},
   "outputs": [],
   "source": [
    "import pandas as pd\n",
    "import numpy as np\n",
    "import matplotlib.pyplot as plt\n",
    "import seaborn as sns\n",
    "import math"
   ]
  },
  {
   "cell_type": "code",
   "execution_count": 2,
   "id": "3453d68d",
   "metadata": {},
   "outputs": [],
   "source": [
    "#reading the dataset all the respondents who self reported as havin vision difficulty, with specific columns of interest\n",
    "df = pd.read_csv(\"psam_pusab_working_data.csv\")"
   ]
  },
  {
   "cell_type": "code",
   "execution_count": 3,
   "id": "72a70831",
   "metadata": {
    "scrolled": true
   },
   "outputs": [
    {
     "data": {
      "text/html": [
       "<div>\n",
       "<style scoped>\n",
       "    .dataframe tbody tr th:only-of-type {\n",
       "        vertical-align: middle;\n",
       "    }\n",
       "\n",
       "    .dataframe tbody tr th {\n",
       "        vertical-align: top;\n",
       "    }\n",
       "\n",
       "    .dataframe thead th {\n",
       "        text-align: right;\n",
       "    }\n",
       "</style>\n",
       "<table border=\"1\" class=\"dataframe\">\n",
       "  <thead>\n",
       "    <tr style=\"text-align: right;\">\n",
       "      <th></th>\n",
       "      <th>Unnamed: 0</th>\n",
       "      <th>Unnamed: 0.1</th>\n",
       "      <th>REGION</th>\n",
       "      <th>DIVISION</th>\n",
       "      <th>ST</th>\n",
       "      <th>AGEP</th>\n",
       "      <th>COW</th>\n",
       "      <th>DEYE</th>\n",
       "      <th>NWAV</th>\n",
       "      <th>NWLA</th>\n",
       "      <th>...</th>\n",
       "      <th>DPHY</th>\n",
       "      <th>HINS4</th>\n",
       "      <th>OIP</th>\n",
       "      <th>PAP</th>\n",
       "      <th>RETP</th>\n",
       "      <th>SEMP</th>\n",
       "      <th>SSIP</th>\n",
       "      <th>SSP</th>\n",
       "      <th>WAGP</th>\n",
       "      <th>PWGTP</th>\n",
       "    </tr>\n",
       "  </thead>\n",
       "  <tbody>\n",
       "    <tr>\n",
       "      <th>51912</th>\n",
       "      <td>11032</td>\n",
       "      <td>427825</td>\n",
       "      <td>4</td>\n",
       "      <td>9</td>\n",
       "      <td>6</td>\n",
       "      <td>87</td>\n",
       "      <td>NaN</td>\n",
       "      <td>1</td>\n",
       "      <td>5.0</td>\n",
       "      <td>2.0</td>\n",
       "      <td>...</td>\n",
       "      <td>1.0</td>\n",
       "      <td>1</td>\n",
       "      <td>0.0</td>\n",
       "      <td>0.0</td>\n",
       "      <td>0.0</td>\n",
       "      <td>0.0</td>\n",
       "      <td>0.0</td>\n",
       "      <td>12200.0</td>\n",
       "      <td>0.0</td>\n",
       "      <td>177</td>\n",
       "    </tr>\n",
       "    <tr>\n",
       "      <th>17681</th>\n",
       "      <td>17681</td>\n",
       "      <td>702663</td>\n",
       "      <td>3</td>\n",
       "      <td>7</td>\n",
       "      <td>40</td>\n",
       "      <td>53</td>\n",
       "      <td>1.0</td>\n",
       "      <td>1</td>\n",
       "      <td>1.0</td>\n",
       "      <td>1.0</td>\n",
       "      <td>...</td>\n",
       "      <td>1.0</td>\n",
       "      <td>1</td>\n",
       "      <td>0.0</td>\n",
       "      <td>0.0</td>\n",
       "      <td>0.0</td>\n",
       "      <td>0.0</td>\n",
       "      <td>0.0</td>\n",
       "      <td>0.0</td>\n",
       "      <td>40000.0</td>\n",
       "      <td>99</td>\n",
       "    </tr>\n",
       "    <tr>\n",
       "      <th>52516</th>\n",
       "      <td>11636</td>\n",
       "      <td>458256</td>\n",
       "      <td>4</td>\n",
       "      <td>9</td>\n",
       "      <td>6</td>\n",
       "      <td>47</td>\n",
       "      <td>NaN</td>\n",
       "      <td>1</td>\n",
       "      <td>5.0</td>\n",
       "      <td>2.0</td>\n",
       "      <td>...</td>\n",
       "      <td>1.0</td>\n",
       "      <td>1</td>\n",
       "      <td>200.0</td>\n",
       "      <td>7200.0</td>\n",
       "      <td>0.0</td>\n",
       "      <td>0.0</td>\n",
       "      <td>0.0</td>\n",
       "      <td>0.0</td>\n",
       "      <td>0.0</td>\n",
       "      <td>291</td>\n",
       "    </tr>\n",
       "    <tr>\n",
       "      <th>43223</th>\n",
       "      <td>2343</td>\n",
       "      <td>62347</td>\n",
       "      <td>4</td>\n",
       "      <td>8</td>\n",
       "      <td>4</td>\n",
       "      <td>57</td>\n",
       "      <td>NaN</td>\n",
       "      <td>1</td>\n",
       "      <td>5.0</td>\n",
       "      <td>2.0</td>\n",
       "      <td>...</td>\n",
       "      <td>2.0</td>\n",
       "      <td>2</td>\n",
       "      <td>0.0</td>\n",
       "      <td>0.0</td>\n",
       "      <td>18000.0</td>\n",
       "      <td>0.0</td>\n",
       "      <td>0.0</td>\n",
       "      <td>0.0</td>\n",
       "      <td>0.0</td>\n",
       "      <td>60</td>\n",
       "    </tr>\n",
       "    <tr>\n",
       "      <th>48220</th>\n",
       "      <td>7340</td>\n",
       "      <td>235881</td>\n",
       "      <td>4</td>\n",
       "      <td>9</td>\n",
       "      <td>6</td>\n",
       "      <td>82</td>\n",
       "      <td>NaN</td>\n",
       "      <td>1</td>\n",
       "      <td>5.0</td>\n",
       "      <td>2.0</td>\n",
       "      <td>...</td>\n",
       "      <td>2.0</td>\n",
       "      <td>2</td>\n",
       "      <td>0.0</td>\n",
       "      <td>0.0</td>\n",
       "      <td>0.0</td>\n",
       "      <td>0.0</td>\n",
       "      <td>0.0</td>\n",
       "      <td>0.0</td>\n",
       "      <td>0.0</td>\n",
       "      <td>33</td>\n",
       "    </tr>\n",
       "  </tbody>\n",
       "</table>\n",
       "<p>5 rows × 52 columns</p>\n",
       "</div>"
      ],
      "text/plain": [
       "       Unnamed: 0  Unnamed: 0.1  REGION  DIVISION  ST  AGEP  COW  DEYE  NWAV  \\\n",
       "51912       11032        427825       4         9   6    87  NaN     1   5.0   \n",
       "17681       17681        702663       3         7  40    53  1.0     1   1.0   \n",
       "52516       11636        458256       4         9   6    47  NaN     1   5.0   \n",
       "43223        2343         62347       4         8   4    57  NaN     1   5.0   \n",
       "48220        7340        235881       4         9   6    82  NaN     1   5.0   \n",
       "\n",
       "       NWLA  ...  DPHY  HINS4    OIP     PAP     RETP  SEMP  SSIP      SSP  \\\n",
       "51912   2.0  ...   1.0      1    0.0     0.0      0.0   0.0   0.0  12200.0   \n",
       "17681   1.0  ...   1.0      1    0.0     0.0      0.0   0.0   0.0      0.0   \n",
       "52516   2.0  ...   1.0      1  200.0  7200.0      0.0   0.0   0.0      0.0   \n",
       "43223   2.0  ...   2.0      2    0.0     0.0  18000.0   0.0   0.0      0.0   \n",
       "48220   2.0  ...   2.0      2    0.0     0.0      0.0   0.0   0.0      0.0   \n",
       "\n",
       "          WAGP  PWGTP  \n",
       "51912      0.0    177  \n",
       "17681  40000.0     99  \n",
       "52516      0.0    291  \n",
       "43223      0.0     60  \n",
       "48220      0.0     33  \n",
       "\n",
       "[5 rows x 52 columns]"
      ]
     },
     "execution_count": 3,
     "metadata": {},
     "output_type": "execute_result"
    }
   ],
   "source": [
    "#preview what the dataset looks like\n",
    "df.sample(5)"
   ]
  },
  {
   "cell_type": "code",
   "execution_count": 4,
   "id": "9f3e1115",
   "metadata": {
    "scrolled": true
   },
   "outputs": [
    {
     "data": {
      "text/plain": [
       "Index(['Unnamed: 0', 'Unnamed: 0.1', 'REGION', 'DIVISION', 'ST', 'AGEP', 'COW',\n",
       "       'DEYE', 'NWAV', 'NWLA', 'NWLK', 'SCH', 'SCHG', 'SCHL', 'SEX', 'WKL',\n",
       "       'DIS', 'ESR', 'FOD1P', 'FOD2P', 'HICOV', 'INDP', 'NAICSP', 'OCCP',\n",
       "       'PERNP', 'PINCP', 'POWSP', 'RAC1P', 'RAC2P', 'RAC3P', 'RACAIAN',\n",
       "       'RACASN', 'RACBLK', 'RACWHT', 'SCIENGP', 'SCIENGRLP', 'SOCP', 'FDEYEP',\n",
       "       'ADJINC', 'DDRS', 'DEAR', 'DOUT', 'DPHY', 'HINS4', 'OIP', 'PAP', 'RETP',\n",
       "       'SEMP', 'SSIP', 'SSP', 'WAGP', 'PWGTP'],\n",
       "      dtype='object')"
      ]
     },
     "execution_count": 4,
     "metadata": {},
     "output_type": "execute_result"
    }
   ],
   "source": [
    "#an overview of the columns\n",
    "df.columns"
   ]
  },
  {
   "cell_type": "code",
   "execution_count": 5,
   "id": "4da6bfe1",
   "metadata": {},
   "outputs": [
    {
     "name": "stdout",
     "output_type": "stream",
     "text": [
      "<class 'pandas.core.frame.DataFrame'>\n",
      "RangeIndex: 82994 entries, 0 to 82993\n",
      "Data columns (total 52 columns):\n",
      " #   Column        Non-Null Count  Dtype  \n",
      "---  ------        --------------  -----  \n",
      " 0   Unnamed: 0    82994 non-null  int64  \n",
      " 1   Unnamed: 0.1  82994 non-null  int64  \n",
      " 2   REGION        82994 non-null  int64  \n",
      " 3   DIVISION      82994 non-null  int64  \n",
      " 4   ST            82994 non-null  int64  \n",
      " 5   AGEP          82994 non-null  int64  \n",
      " 6   COW           30694 non-null  float64\n",
      " 7   DEYE          82994 non-null  int64  \n",
      " 8   NWAV          79081 non-null  float64\n",
      " 9   NWLA          79081 non-null  float64\n",
      " 10  NWLK          79081 non-null  float64\n",
      " 11  SCH           82718 non-null  float64\n",
      " 12  SCHG          7429 non-null   float64\n",
      " 13  SCHL          82718 non-null  float64\n",
      " 14  SEX           82994 non-null  int64  \n",
      " 15  WKL           79081 non-null  float64\n",
      " 16  DIS           82994 non-null  int64  \n",
      " 17  ESR           79081 non-null  float64\n",
      " 18  FOD1P         12786 non-null  float64\n",
      " 19  FOD2P         1399 non-null   float64\n",
      " 20  HICOV         82994 non-null  int64  \n",
      " 21  INDP          30694 non-null  float64\n",
      " 22  NAICSP        30694 non-null  object \n",
      " 23  OCCP          30694 non-null  float64\n",
      " 24  PERNP         79081 non-null  float64\n",
      " 25  PINCP         79502 non-null  float64\n",
      " 26  POWSP         18870 non-null  float64\n",
      " 27  RAC1P         82994 non-null  int64  \n",
      " 28  RAC2P         82994 non-null  int64  \n",
      " 29  RAC3P         82994 non-null  int64  \n",
      " 30  RACAIAN       82994 non-null  int64  \n",
      " 31  RACASN        82994 non-null  int64  \n",
      " 32  RACBLK        82994 non-null  int64  \n",
      " 33  RACWHT        82994 non-null  int64  \n",
      " 34  SCIENGP       12786 non-null  float64\n",
      " 35  SCIENGRLP     12786 non-null  float64\n",
      " 36  SOCP          30694 non-null  object \n",
      " 37  FDEYEP        82994 non-null  int64  \n",
      " 38  ADJINC        82994 non-null  int64  \n",
      " 39  DDRS          82446 non-null  float64\n",
      " 40  DEAR          82994 non-null  int64  \n",
      " 41  DOUT          79502 non-null  float64\n",
      " 42  DPHY          82446 non-null  float64\n",
      " 43  HINS4         82994 non-null  int64  \n",
      " 44  OIP           79502 non-null  float64\n",
      " 45  PAP           79502 non-null  float64\n",
      " 46  RETP          79502 non-null  float64\n",
      " 47  SEMP          79502 non-null  float64\n",
      " 48  SSIP          79502 non-null  float64\n",
      " 49  SSP           79502 non-null  float64\n",
      " 50  WAGP          79502 non-null  float64\n",
      " 51  PWGTP         82994 non-null  int64  \n",
      "dtypes: float64(28), int64(22), object(2)\n",
      "memory usage: 32.9+ MB\n"
     ]
    }
   ],
   "source": [
    "# information about the dataset as a whole\n",
    "df.info()"
   ]
  },
  {
   "cell_type": "code",
   "execution_count": 6,
   "id": "2f9a9217",
   "metadata": {},
   "outputs": [],
   "source": [
    "# convert the deye col\n",
    "deye = {1: 'yes', 2:'no'}\n",
    "df[\"DEYE\"] = df[\"DEYE\"].map(deye) \n",
    "\n",
    "# convert the region col\n",
    "region = {1: 'Northeast', 2: 'Midwest', 3: 'South', 4: 'West', 9: 'Puerto Rico'}\n",
    "df[\"REGION\"] = df[\"REGION\"].map(region)\n",
    "\n",
    "# convert the st col\n",
    "st = {1: 'Alabama', 2: 'Alaska', 4: 'Arizona', 5: 'Arkansas', 6: 'California', 8: 'Colorado', 9: 'Connecticut',\n",
    "      10: 'Delaware', 11: 'District of Columbia', 12: 'Florida', 13: 'Georgia', 15: 'Hawaii', 16: 'Idaho', 17: 'Illinois',\n",
    "      18: 'Indiana', 19: 'Iowa', 20: 'Kansas', 21: 'Kentucky', 22: 'Louisiana', 23: 'Maine', 24: 'Maryland', \n",
    "      25: 'Massachusetts', 26: 'Michigan', 27: 'Minnesota', 28: 'Mississippi', 29: 'Missouri', 30: 'Montana', 31: 'Nebraska',\n",
    "      32: 'Nevada', 33: 'New Hampshire', 34: 'New Jersey', 35: 'New Mexico', 36: 'New York', 37: 'North Carolina',\n",
    "      38: 'North Dakota', 39: 'Ohio', 40: 'Oklahoma', 41: 'Oregon', 42: 'Pennsylvania', 44: 'Rhode Island',45: 'South Carolina',\n",
    "      46: 'South Dakota', 47: 'Tennessee', 48: 'Texas', 49: 'Utah', 50: 'Vermont', 51: 'Virginia', 53: 'Washington',\n",
    "      54: 'West Virginia', 55: 'Wisconsin', 56: 'Wyoming', 72: 'Puerto Rico'}\n",
    "\n",
    "df[\"ST\"] = df[\"ST\"].map(st) \n",
    "\n",
    "# convert division \n",
    "division = {0: 'Puerto Rico', 1: 'New England', 2: 'Middle Atlantic', 3: 'East North Central', 4: 'West North Central', \n",
    "          5: 'South Atlantic', 6:'East South Central', 7:'West South Central', 8:'Mountain', 9:'Pacific'}\n",
    "df[\"DIVISION\"] = df[\"DIVISION\"].map(division)\n",
    "sex = {1: 'Male', 2: 'Female'}\n",
    "df[\"SEX\"] = df[\"SEX\"].map(sex)"
   ]
  },
  {
   "cell_type": "code",
   "execution_count": 7,
   "id": "c64c2067",
   "metadata": {},
   "outputs": [
    {
     "ename": "SyntaxError",
     "evalue": "EOL while scanning string literal (Temp/ipykernel_28804/947966711.py, line 11)",
     "output_type": "error",
     "traceback": [
      "\u001b[1;36m  File \u001b[1;32m\"C:\\Users\\nicol\\AppData\\Local\\Temp/ipykernel_28804/947966711.py\"\u001b[1;36m, line \u001b[1;32m11\u001b[0m\n\u001b[1;33m    23: 'Professional degree beyond a bachelors degree',24: 'Doctorate degree}\u001b[0m\n\u001b[1;37m                                                                              ^\u001b[0m\n\u001b[1;31mSyntaxError\u001b[0m\u001b[1;31m:\u001b[0m EOL while scanning string literal\n"
     ]
    }
   ],
   "source": [
    "#convert school col\n",
    "schl = {'bb': 'N/A (less than 3 years old)', 1:'No schooling completed', \n",
    "        2:'Nursery school, preschool', 3:'Kindergarten', 4: 'Grade 1',\n",
    "        5:'Grade 2', 6:'Grade 3', 7:'Grade 4', 8:'Grade 5', 9:'Grade 6',\n",
    "        10:'Grade 7', 11:'Grade 8', 12:'Grade 9', 13:'Grade 10', \n",
    "        14:'Grade 11', 15:'12th grade - no diploma', \n",
    "        16:'Regular high school diploma', 17: 'GED or alternative credential',\n",
    "        18: 'Some college, but less than 1 year', \n",
    "        19: '1 or more years of college credit, no degree',20: 'Associates degree',\n",
    "        21: 'Bachelors degree', 22: 'Masters degree',\n",
    "        23: 'Professional degree beyond a bachelors degree',24: 'Doctorate degree'}\n",
    "\n"
   ]
  },
  {
   "cell_type": "code",
   "execution_count": 8,
   "id": "48429118",
   "metadata": {},
   "outputs": [
    {
     "data": {
      "text/html": [
       "<div>\n",
       "<style scoped>\n",
       "    .dataframe tbody tr th:only-of-type {\n",
       "        vertical-align: middle;\n",
       "    }\n",
       "\n",
       "    .dataframe tbody tr th {\n",
       "        vertical-align: top;\n",
       "    }\n",
       "\n",
       "    .dataframe thead th {\n",
       "        text-align: right;\n",
       "    }\n",
       "</style>\n",
       "<table border=\"1\" class=\"dataframe\">\n",
       "  <thead>\n",
       "    <tr style=\"text-align: right;\">\n",
       "      <th></th>\n",
       "      <th>REGION</th>\n",
       "      <th>DIVISION</th>\n",
       "      <th>ST</th>\n",
       "      <th>AGEP</th>\n",
       "      <th>COW</th>\n",
       "      <th>DEYE</th>\n",
       "      <th>NWAV</th>\n",
       "      <th>NWLA</th>\n",
       "      <th>NWLK</th>\n",
       "      <th>SCH</th>\n",
       "      <th>...</th>\n",
       "      <th>DPHY</th>\n",
       "      <th>HINS4</th>\n",
       "      <th>OIP</th>\n",
       "      <th>PAP</th>\n",
       "      <th>RETP</th>\n",
       "      <th>SEMP</th>\n",
       "      <th>SSIP</th>\n",
       "      <th>SSP</th>\n",
       "      <th>WAGP</th>\n",
       "      <th>PWGTP</th>\n",
       "    </tr>\n",
       "  </thead>\n",
       "  <tbody>\n",
       "    <tr>\n",
       "      <th>0</th>\n",
       "      <td>Midwest</td>\n",
       "      <td>West North Central</td>\n",
       "      <td>Missouri</td>\n",
       "      <td>41</td>\n",
       "      <td>NaN</td>\n",
       "      <td>yes</td>\n",
       "      <td>5.0</td>\n",
       "      <td>3.0</td>\n",
       "      <td>3.0</td>\n",
       "      <td>1.0</td>\n",
       "      <td>...</td>\n",
       "      <td>2.0</td>\n",
       "      <td>1</td>\n",
       "      <td>0.0</td>\n",
       "      <td>0.0</td>\n",
       "      <td>600.0</td>\n",
       "      <td>0.0</td>\n",
       "      <td>0.0</td>\n",
       "      <td>0.0</td>\n",
       "      <td>0.0</td>\n",
       "      <td>61</td>\n",
       "    </tr>\n",
       "    <tr>\n",
       "      <th>1</th>\n",
       "      <td>Midwest</td>\n",
       "      <td>West North Central</td>\n",
       "      <td>Missouri</td>\n",
       "      <td>72</td>\n",
       "      <td>NaN</td>\n",
       "      <td>yes</td>\n",
       "      <td>5.0</td>\n",
       "      <td>3.0</td>\n",
       "      <td>3.0</td>\n",
       "      <td>1.0</td>\n",
       "      <td>...</td>\n",
       "      <td>1.0</td>\n",
       "      <td>1</td>\n",
       "      <td>0.0</td>\n",
       "      <td>0.0</td>\n",
       "      <td>0.0</td>\n",
       "      <td>0.0</td>\n",
       "      <td>0.0</td>\n",
       "      <td>8900.0</td>\n",
       "      <td>0.0</td>\n",
       "      <td>107</td>\n",
       "    </tr>\n",
       "    <tr>\n",
       "      <th>2</th>\n",
       "      <td>Midwest</td>\n",
       "      <td>West North Central</td>\n",
       "      <td>Missouri</td>\n",
       "      <td>85</td>\n",
       "      <td>NaN</td>\n",
       "      <td>yes</td>\n",
       "      <td>5.0</td>\n",
       "      <td>3.0</td>\n",
       "      <td>3.0</td>\n",
       "      <td>1.0</td>\n",
       "      <td>...</td>\n",
       "      <td>2.0</td>\n",
       "      <td>2</td>\n",
       "      <td>0.0</td>\n",
       "      <td>0.0</td>\n",
       "      <td>0.0</td>\n",
       "      <td>0.0</td>\n",
       "      <td>0.0</td>\n",
       "      <td>10800.0</td>\n",
       "      <td>0.0</td>\n",
       "      <td>125</td>\n",
       "    </tr>\n",
       "    <tr>\n",
       "      <th>3</th>\n",
       "      <td>Midwest</td>\n",
       "      <td>West North Central</td>\n",
       "      <td>Missouri</td>\n",
       "      <td>85</td>\n",
       "      <td>NaN</td>\n",
       "      <td>yes</td>\n",
       "      <td>5.0</td>\n",
       "      <td>3.0</td>\n",
       "      <td>3.0</td>\n",
       "      <td>1.0</td>\n",
       "      <td>...</td>\n",
       "      <td>2.0</td>\n",
       "      <td>2</td>\n",
       "      <td>0.0</td>\n",
       "      <td>0.0</td>\n",
       "      <td>0.0</td>\n",
       "      <td>0.0</td>\n",
       "      <td>0.0</td>\n",
       "      <td>10800.0</td>\n",
       "      <td>0.0</td>\n",
       "      <td>11</td>\n",
       "    </tr>\n",
       "    <tr>\n",
       "      <th>4</th>\n",
       "      <td>Midwest</td>\n",
       "      <td>West North Central</td>\n",
       "      <td>Missouri</td>\n",
       "      <td>52</td>\n",
       "      <td>NaN</td>\n",
       "      <td>yes</td>\n",
       "      <td>5.0</td>\n",
       "      <td>2.0</td>\n",
       "      <td>2.0</td>\n",
       "      <td>1.0</td>\n",
       "      <td>...</td>\n",
       "      <td>2.0</td>\n",
       "      <td>1</td>\n",
       "      <td>0.0</td>\n",
       "      <td>0.0</td>\n",
       "      <td>0.0</td>\n",
       "      <td>0.0</td>\n",
       "      <td>0.0</td>\n",
       "      <td>0.0</td>\n",
       "      <td>0.0</td>\n",
       "      <td>9</td>\n",
       "    </tr>\n",
       "    <tr>\n",
       "      <th>...</th>\n",
       "      <td>...</td>\n",
       "      <td>...</td>\n",
       "      <td>...</td>\n",
       "      <td>...</td>\n",
       "      <td>...</td>\n",
       "      <td>...</td>\n",
       "      <td>...</td>\n",
       "      <td>...</td>\n",
       "      <td>...</td>\n",
       "      <td>...</td>\n",
       "      <td>...</td>\n",
       "      <td>...</td>\n",
       "      <td>...</td>\n",
       "      <td>...</td>\n",
       "      <td>...</td>\n",
       "      <td>...</td>\n",
       "      <td>...</td>\n",
       "      <td>...</td>\n",
       "      <td>...</td>\n",
       "      <td>...</td>\n",
       "      <td>...</td>\n",
       "    </tr>\n",
       "    <tr>\n",
       "      <th>82989</th>\n",
       "      <td>South</td>\n",
       "      <td>East South Central</td>\n",
       "      <td>Mississippi</td>\n",
       "      <td>65</td>\n",
       "      <td>NaN</td>\n",
       "      <td>yes</td>\n",
       "      <td>5.0</td>\n",
       "      <td>2.0</td>\n",
       "      <td>2.0</td>\n",
       "      <td>1.0</td>\n",
       "      <td>...</td>\n",
       "      <td>1.0</td>\n",
       "      <td>2</td>\n",
       "      <td>0.0</td>\n",
       "      <td>0.0</td>\n",
       "      <td>6400.0</td>\n",
       "      <td>0.0</td>\n",
       "      <td>0.0</td>\n",
       "      <td>7600.0</td>\n",
       "      <td>0.0</td>\n",
       "      <td>229</td>\n",
       "    </tr>\n",
       "    <tr>\n",
       "      <th>82990</th>\n",
       "      <td>South</td>\n",
       "      <td>East South Central</td>\n",
       "      <td>Mississippi</td>\n",
       "      <td>69</td>\n",
       "      <td>NaN</td>\n",
       "      <td>yes</td>\n",
       "      <td>5.0</td>\n",
       "      <td>2.0</td>\n",
       "      <td>2.0</td>\n",
       "      <td>1.0</td>\n",
       "      <td>...</td>\n",
       "      <td>1.0</td>\n",
       "      <td>2</td>\n",
       "      <td>0.0</td>\n",
       "      <td>0.0</td>\n",
       "      <td>0.0</td>\n",
       "      <td>0.0</td>\n",
       "      <td>0.0</td>\n",
       "      <td>13500.0</td>\n",
       "      <td>0.0</td>\n",
       "      <td>221</td>\n",
       "    </tr>\n",
       "    <tr>\n",
       "      <th>82991</th>\n",
       "      <td>South</td>\n",
       "      <td>East South Central</td>\n",
       "      <td>Mississippi</td>\n",
       "      <td>49</td>\n",
       "      <td>1.0</td>\n",
       "      <td>yes</td>\n",
       "      <td>1.0</td>\n",
       "      <td>2.0</td>\n",
       "      <td>2.0</td>\n",
       "      <td>1.0</td>\n",
       "      <td>...</td>\n",
       "      <td>2.0</td>\n",
       "      <td>2</td>\n",
       "      <td>0.0</td>\n",
       "      <td>0.0</td>\n",
       "      <td>0.0</td>\n",
       "      <td>0.0</td>\n",
       "      <td>0.0</td>\n",
       "      <td>0.0</td>\n",
       "      <td>45000.0</td>\n",
       "      <td>26</td>\n",
       "    </tr>\n",
       "    <tr>\n",
       "      <th>82992</th>\n",
       "      <td>South</td>\n",
       "      <td>East South Central</td>\n",
       "      <td>Mississippi</td>\n",
       "      <td>13</td>\n",
       "      <td>NaN</td>\n",
       "      <td>yes</td>\n",
       "      <td>NaN</td>\n",
       "      <td>NaN</td>\n",
       "      <td>NaN</td>\n",
       "      <td>2.0</td>\n",
       "      <td>...</td>\n",
       "      <td>1.0</td>\n",
       "      <td>1</td>\n",
       "      <td>NaN</td>\n",
       "      <td>NaN</td>\n",
       "      <td>NaN</td>\n",
       "      <td>NaN</td>\n",
       "      <td>NaN</td>\n",
       "      <td>NaN</td>\n",
       "      <td>NaN</td>\n",
       "      <td>37</td>\n",
       "    </tr>\n",
       "    <tr>\n",
       "      <th>82993</th>\n",
       "      <td>South</td>\n",
       "      <td>East South Central</td>\n",
       "      <td>Mississippi</td>\n",
       "      <td>83</td>\n",
       "      <td>NaN</td>\n",
       "      <td>yes</td>\n",
       "      <td>3.0</td>\n",
       "      <td>2.0</td>\n",
       "      <td>2.0</td>\n",
       "      <td>1.0</td>\n",
       "      <td>...</td>\n",
       "      <td>2.0</td>\n",
       "      <td>2</td>\n",
       "      <td>0.0</td>\n",
       "      <td>0.0</td>\n",
       "      <td>0.0</td>\n",
       "      <td>0.0</td>\n",
       "      <td>0.0</td>\n",
       "      <td>0.0</td>\n",
       "      <td>0.0</td>\n",
       "      <td>60</td>\n",
       "    </tr>\n",
       "  </tbody>\n",
       "</table>\n",
       "<p>82994 rows × 50 columns</p>\n",
       "</div>"
      ],
      "text/plain": [
       "        REGION            DIVISION           ST  AGEP  COW DEYE  NWAV  NWLA  \\\n",
       "0      Midwest  West North Central     Missouri    41  NaN  yes   5.0   3.0   \n",
       "1      Midwest  West North Central     Missouri    72  NaN  yes   5.0   3.0   \n",
       "2      Midwest  West North Central     Missouri    85  NaN  yes   5.0   3.0   \n",
       "3      Midwest  West North Central     Missouri    85  NaN  yes   5.0   3.0   \n",
       "4      Midwest  West North Central     Missouri    52  NaN  yes   5.0   2.0   \n",
       "...        ...                 ...          ...   ...  ...  ...   ...   ...   \n",
       "82989    South  East South Central  Mississippi    65  NaN  yes   5.0   2.0   \n",
       "82990    South  East South Central  Mississippi    69  NaN  yes   5.0   2.0   \n",
       "82991    South  East South Central  Mississippi    49  1.0  yes   1.0   2.0   \n",
       "82992    South  East South Central  Mississippi    13  NaN  yes   NaN   NaN   \n",
       "82993    South  East South Central  Mississippi    83  NaN  yes   3.0   2.0   \n",
       "\n",
       "       NWLK  SCH  ...  DPHY  HINS4  OIP  PAP    RETP  SEMP  SSIP      SSP  \\\n",
       "0       3.0  1.0  ...   2.0      1  0.0  0.0   600.0   0.0   0.0      0.0   \n",
       "1       3.0  1.0  ...   1.0      1  0.0  0.0     0.0   0.0   0.0   8900.0   \n",
       "2       3.0  1.0  ...   2.0      2  0.0  0.0     0.0   0.0   0.0  10800.0   \n",
       "3       3.0  1.0  ...   2.0      2  0.0  0.0     0.0   0.0   0.0  10800.0   \n",
       "4       2.0  1.0  ...   2.0      1  0.0  0.0     0.0   0.0   0.0      0.0   \n",
       "...     ...  ...  ...   ...    ...  ...  ...     ...   ...   ...      ...   \n",
       "82989   2.0  1.0  ...   1.0      2  0.0  0.0  6400.0   0.0   0.0   7600.0   \n",
       "82990   2.0  1.0  ...   1.0      2  0.0  0.0     0.0   0.0   0.0  13500.0   \n",
       "82991   2.0  1.0  ...   2.0      2  0.0  0.0     0.0   0.0   0.0      0.0   \n",
       "82992   NaN  2.0  ...   1.0      1  NaN  NaN     NaN   NaN   NaN      NaN   \n",
       "82993   2.0  1.0  ...   2.0      2  0.0  0.0     0.0   0.0   0.0      0.0   \n",
       "\n",
       "          WAGP  PWGTP  \n",
       "0          0.0     61  \n",
       "1          0.0    107  \n",
       "2          0.0    125  \n",
       "3          0.0     11  \n",
       "4          0.0      9  \n",
       "...        ...    ...  \n",
       "82989      0.0    229  \n",
       "82990      0.0    221  \n",
       "82991  45000.0     26  \n",
       "82992      NaN     37  \n",
       "82993      0.0     60  \n",
       "\n",
       "[82994 rows x 50 columns]"
      ]
     },
     "execution_count": 8,
     "metadata": {},
     "output_type": "execute_result"
    }
   ],
   "source": [
    "# droping the unnamed columns that occured after concatanating the dataset.\n",
    "df.drop(columns = [\"Unnamed: 0\", \"Unnamed: 0.1\"])"
   ]
  },
  {
   "cell_type": "markdown",
   "id": "a9004461",
   "metadata": {},
   "source": [
    "checking value counts of some variables"
   ]
  },
  {
   "cell_type": "code",
   "execution_count": 9,
   "id": "bd53fdb7",
   "metadata": {
    "scrolled": true
   },
   "outputs": [
    {
     "data": {
      "text/plain": [
       "94    2407\n",
       "62    1635\n",
       "72    1630\n",
       "61    1626\n",
       "64    1623\n",
       "      ... \n",
       "3      120\n",
       "2      108\n",
       "1       91\n",
       "0       77\n",
       "96      21\n",
       "Name: AGEP, Length: 97, dtype: int64"
      ]
     },
     "execution_count": 9,
     "metadata": {},
     "output_type": "execute_result"
    }
   ],
   "source": [
    "df[\"AGEP\"].value_counts()"
   ]
  },
  {
   "cell_type": "code",
   "execution_count": 10,
   "id": "5ac0e3ab",
   "metadata": {},
   "outputs": [
    {
     "data": {
      "text/plain": [
       "Female    44780\n",
       "Male      38214\n",
       "Name: SEX, dtype: int64"
      ]
     },
     "execution_count": 10,
     "metadata": {},
     "output_type": "execute_result"
    }
   ],
   "source": [
    "df[\"SEX\"].value_counts()"
   ]
  },
  {
   "cell_type": "code",
   "execution_count": 11,
   "id": "843b1c5f",
   "metadata": {},
   "outputs": [
    {
     "data": {
      "text/plain": [
       "California              8035\n",
       "Texas                   7776\n",
       "Florida                 5848\n",
       "New York                4353\n",
       "Pennsylvania            3143\n",
       "Ohio                    3005\n",
       "Illinois                2953\n",
       "Georgia                 2825\n",
       "North Carolina          2732\n",
       "Michigan                2403\n",
       "Tennessee               2239\n",
       "Virginia                2022\n",
       "Arizona                 1894\n",
       "New Jersey              1865\n",
       "Indiana                 1834\n",
       "Missouri                1817\n",
       "Washington              1806\n",
       "Alabama                 1785\n",
       "Kentucky                1678\n",
       "Louisiana               1617\n",
       "Oklahoma                1601\n",
       "South Carolina          1555\n",
       "Massachusetts           1416\n",
       "Maryland                1279\n",
       "Mississippi             1236\n",
       "Arkansas                1197\n",
       "Colorado                1166\n",
       "Wisconsin               1121\n",
       "Oregon                  1110\n",
       "Minnesota                979\n",
       "Kansas                   861\n",
       "New Mexico               759\n",
       "West Virginia            758\n",
       "Iowa                     755\n",
       "Connecticut              736\n",
       "Nevada                   730\n",
       "Utah                     506\n",
       "Nebraska                 484\n",
       "Idaho                    426\n",
       "Maine                    319\n",
       "Hawaii                   307\n",
       "New Hampshire            282\n",
       "Montana                  275\n",
       "South Dakota             236\n",
       "Alaska                   222\n",
       "Rhode Island             217\n",
       "Delaware                 204\n",
       "Wyoming                  172\n",
       "North Dakota             167\n",
       "Vermont                  149\n",
       "District of Columbia     139\n",
       "Name: ST, dtype: int64"
      ]
     },
     "execution_count": 11,
     "metadata": {},
     "output_type": "execute_result"
    }
   ],
   "source": [
    "df[\"ST\"].value_counts()"
   ]
  },
  {
   "cell_type": "code",
   "execution_count": 12,
   "id": "9e648712",
   "metadata": {},
   "outputs": [
    {
     "data": {
      "text/plain": [
       "0.0         8907\n",
       "12000.0     1570\n",
       "9000.0       954\n",
       "10000.0      833\n",
       "9300.0       796\n",
       "            ... \n",
       "3590.0         1\n",
       "270800.0       1\n",
       "277800.0       1\n",
       "18810.0        1\n",
       "50090.0        1\n",
       "Name: PINCP, Length: 4459, dtype: int64"
      ]
     },
     "execution_count": 12,
     "metadata": {},
     "output_type": "execute_result"
    }
   ],
   "source": [
    "df[\"PINCP\"].value_counts()"
   ]
  },
  {
   "cell_type": "code",
   "execution_count": 13,
   "id": "010b556a",
   "metadata": {},
   "outputs": [
    {
     "data": {
      "text/plain": [
       "0.0         58220\n",
       "30000.0       667\n",
       "50000.0       544\n",
       "40000.0       541\n",
       "20000.0       526\n",
       "            ...  \n",
       "890.0           1\n",
       "28900.0         1\n",
       "42900.0         1\n",
       "428000.0        1\n",
       "48900.0         1\n",
       "Name: WAGP, Length: 796, dtype: int64"
      ]
     },
     "execution_count": 13,
     "metadata": {},
     "output_type": "execute_result"
    }
   ],
   "source": [
    "df[\"WAGP\"].value_counts()"
   ]
  },
  {
   "cell_type": "code",
   "execution_count": 14,
   "id": "7f139d88",
   "metadata": {},
   "outputs": [
    {
     "data": {
      "text/plain": [
       "<AxesSubplot:>"
      ]
     },
     "execution_count": 14,
     "metadata": {},
     "output_type": "execute_result"
    },
    {
     "data": {
      "image/png": "[encoded data removed]",
      "text/plain": [
       "<Figure size 432x288 with 1 Axes>"
      ]
     },
     "metadata": {
      "needs_background": "light"
     },
     "output_type": "display_data"
    }
   ],
   "source": [
    "plt.figure()\n",
    "df[\"AGEP\"].hist(color = \"b\", bins = 10)\n",
    "\n",
    "#df[\"AGEP\"].diff().hist(color=\"g\", alpha=0.5, bins=10)"
   ]
  },
  {
   "cell_type": "code",
   "execution_count": 15,
   "id": "1ee2689a",
   "metadata": {},
   "outputs": [
    {
     "data": {
      "text/plain": [
       "count    82994.000000\n",
       "mean        60.189158\n",
       "std         22.626098\n",
       "min          0.000000\n",
       "25%         47.000000\n",
       "50%         63.000000\n",
       "75%         77.000000\n",
       "max         96.000000\n",
       "Name: AGEP, dtype: float64"
      ]
     },
     "execution_count": 15,
     "metadata": {},
     "output_type": "execute_result"
    }
   ],
   "source": [
    "df[\"AGEP\"].describe()"
   ]
  },
  {
   "cell_type": "code",
   "execution_count": 16,
   "id": "3125ae77",
   "metadata": {},
   "outputs": [],
   "source": [
    "bins = [0, 18, 30, 40, 50, 60, 70, 120]\n",
    "labels = ['0-17','18-29', '30-39', '40-49', '50-59', '60-69', '70+']\n",
    "df['AGE_BINS'] = pd.cut(df.AGEP, bins, labels = labels,include_lowest = True)\n"
   ]
  },
  {
   "cell_type": "code",
   "execution_count": 17,
   "id": "a5c328b2",
   "metadata": {},
   "outputs": [
    {
     "data": {
      "text/plain": [
       "Text(0.5, 1.0, 'Distribution of the ages')"
      ]
     },
     "execution_count": 17,
     "metadata": {},
     "output_type": "execute_result"
    },
    {
     "data": {
      "image/png": "[encoded data removed]",
      "text/plain": [
       "<Figure size 432x288 with 1 Axes>"
      ]
     },
     "metadata": {
      "needs_background": "light"
     },
     "output_type": "display_data"
    }
   ],
   "source": [
    "ages = df[\"AGE_BINS\"].value_counts()\n",
    "ages.sort_index()\n",
    "ages\n",
    "ages.plot.bar()\n",
    "plt.xlabel(\"Age Groups\")\n",
    "plt.ylabel(\"Number of people\")\n",
    "plt.title(\"Distribution of the ages\")"
   ]
  },
  {
   "cell_type": "code",
   "execution_count": 18,
   "id": "1e7062c2",
   "metadata": {},
   "outputs": [],
   "source": [
    "gender = df[\"SEX\"].value_counts()"
   ]
  },
  {
   "cell_type": "code",
   "execution_count": 19,
   "id": "7cc61a35",
   "metadata": {},
   "outputs": [
    {
     "data": {
      "text/plain": [
       "Text(0.5, 1.0, 'Distribution of sex in people with vision difficulty')"
      ]
     },
     "execution_count": 19,
     "metadata": {},
     "output_type": "execute_result"
    },
    {
     "data": {
      "image/png": "[encoded data removed]",
      "text/plain": [
       "<Figure size 432x288 with 1 Axes>"
      ]
     },
     "metadata": {
      "needs_background": "light"
     },
     "output_type": "display_data"
    }
   ],
   "source": [
    "gender.plot.bar()\n",
    "plt.xlabel(\"Sex\")\n",
    "plt.ylabel(\"Number of people\")\n",
    "plt.title(\"Distribution of sex in people with vision difficulty\")"
   ]
  },
  {
   "cell_type": "code",
   "execution_count": 20,
   "id": "718e4e98",
   "metadata": {
    "scrolled": true
   },
   "outputs": [
    {
     "data": {
      "text/plain": [
       " 0.0         56255\n",
       " 30000.0       710\n",
       " 40000.0       573\n",
       " 20000.0       571\n",
       " 50000.0       568\n",
       "             ...  \n",
       " 472000.0        1\n",
       "-1700.0          1\n",
       " 63600.0         1\n",
       " 393500.0        1\n",
       " 48900.0         1\n",
       "Name: PERNP, Length: 996, dtype: int64"
      ]
     },
     "execution_count": 20,
     "metadata": {},
     "output_type": "execute_result"
    }
   ],
   "source": [
    "df[\"PERNP\"].value_counts()"
   ]
  },
  {
   "cell_type": "code",
   "execution_count": 21,
   "id": "c305a3f7",
   "metadata": {},
   "outputs": [
    {
     "data": {
      "text/html": [
       "<div>\n",
       "<style scoped>\n",
       "    .dataframe tbody tr th:only-of-type {\n",
       "        vertical-align: middle;\n",
       "    }\n",
       "\n",
       "    .dataframe tbody tr th {\n",
       "        vertical-align: top;\n",
       "    }\n",
       "\n",
       "    .dataframe thead th {\n",
       "        text-align: right;\n",
       "    }\n",
       "</style>\n",
       "<table border=\"1\" class=\"dataframe\">\n",
       "  <thead>\n",
       "    <tr style=\"text-align: right;\">\n",
       "      <th></th>\n",
       "      <th>OIP</th>\n",
       "      <th>PAP</th>\n",
       "      <th>RETP</th>\n",
       "      <th>SEMP</th>\n",
       "      <th>SSIP</th>\n",
       "      <th>SSP</th>\n",
       "      <th>WAGP</th>\n",
       "      <th>PERNP</th>\n",
       "      <th>PINCP</th>\n",
       "    </tr>\n",
       "  </thead>\n",
       "  <tbody>\n",
       "    <tr>\n",
       "      <th>6448</th>\n",
       "      <td>0.0</td>\n",
       "      <td>0.0</td>\n",
       "      <td>0.0</td>\n",
       "      <td>0.0</td>\n",
       "      <td>0.0</td>\n",
       "      <td>1900.0</td>\n",
       "      <td>0.0</td>\n",
       "      <td>0.0</td>\n",
       "      <td>1900.0</td>\n",
       "    </tr>\n",
       "    <tr>\n",
       "      <th>17645</th>\n",
       "      <td>0.0</td>\n",
       "      <td>0.0</td>\n",
       "      <td>0.0</td>\n",
       "      <td>0.0</td>\n",
       "      <td>9400.0</td>\n",
       "      <td>780.0</td>\n",
       "      <td>0.0</td>\n",
       "      <td>0.0</td>\n",
       "      <td>10180.0</td>\n",
       "    </tr>\n",
       "    <tr>\n",
       "      <th>25988</th>\n",
       "      <td>0.0</td>\n",
       "      <td>0.0</td>\n",
       "      <td>0.0</td>\n",
       "      <td>0.0</td>\n",
       "      <td>3200.0</td>\n",
       "      <td>7300.0</td>\n",
       "      <td>0.0</td>\n",
       "      <td>0.0</td>\n",
       "      <td>10500.0</td>\n",
       "    </tr>\n",
       "    <tr>\n",
       "      <th>29992</th>\n",
       "      <td>0.0</td>\n",
       "      <td>0.0</td>\n",
       "      <td>0.0</td>\n",
       "      <td>0.0</td>\n",
       "      <td>0.0</td>\n",
       "      <td>8300.0</td>\n",
       "      <td>0.0</td>\n",
       "      <td>0.0</td>\n",
       "      <td>8300.0</td>\n",
       "    </tr>\n",
       "    <tr>\n",
       "      <th>55409</th>\n",
       "      <td>0.0</td>\n",
       "      <td>0.0</td>\n",
       "      <td>0.0</td>\n",
       "      <td>0.0</td>\n",
       "      <td>0.0</td>\n",
       "      <td>0.0</td>\n",
       "      <td>0.0</td>\n",
       "      <td>0.0</td>\n",
       "      <td>0.0</td>\n",
       "    </tr>\n",
       "  </tbody>\n",
       "</table>\n",
       "</div>"
      ],
      "text/plain": [
       "       OIP  PAP  RETP  SEMP    SSIP     SSP  WAGP  PERNP    PINCP\n",
       "6448   0.0  0.0   0.0   0.0     0.0  1900.0   0.0    0.0   1900.0\n",
       "17645  0.0  0.0   0.0   0.0  9400.0   780.0   0.0    0.0  10180.0\n",
       "25988  0.0  0.0   0.0   0.0  3200.0  7300.0   0.0    0.0  10500.0\n",
       "29992  0.0  0.0   0.0   0.0     0.0  8300.0   0.0    0.0   8300.0\n",
       "55409  0.0  0.0   0.0   0.0     0.0     0.0   0.0    0.0      0.0"
      ]
     },
     "execution_count": 21,
     "metadata": {},
     "output_type": "execute_result"
    }
   ],
   "source": [
    "df[[\"OIP\", \"PAP\", \"RETP\", \"SEMP\", \"SSIP\", \"SSP\", \"WAGP\", \"PERNP\", \"PINCP\"]].sample(5)"
   ]
  },
  {
   "cell_type": "code",
   "execution_count": 22,
   "id": "00d1a457",
   "metadata": {
    "scrolled": true
   },
   "outputs": [
    {
     "data": {
      "text/html": [
       "<div>\n",
       "<style scoped>\n",
       "    .dataframe tbody tr th:only-of-type {\n",
       "        vertical-align: middle;\n",
       "    }\n",
       "\n",
       "    .dataframe tbody tr th {\n",
       "        vertical-align: top;\n",
       "    }\n",
       "\n",
       "    .dataframe thead th {\n",
       "        text-align: right;\n",
       "    }\n",
       "</style>\n",
       "<table border=\"1\" class=\"dataframe\">\n",
       "  <thead>\n",
       "    <tr style=\"text-align: right;\">\n",
       "      <th></th>\n",
       "      <th>OIP</th>\n",
       "      <th>PAP</th>\n",
       "      <th>RETP</th>\n",
       "      <th>SEMP</th>\n",
       "      <th>SSIP</th>\n",
       "      <th>SSP</th>\n",
       "      <th>WAGP</th>\n",
       "      <th>PERNP</th>\n",
       "      <th>PINCP</th>\n",
       "    </tr>\n",
       "  </thead>\n",
       "  <tbody>\n",
       "    <tr>\n",
       "      <th>count</th>\n",
       "      <td>79502.000000</td>\n",
       "      <td>79502.000000</td>\n",
       "      <td>79502.000000</td>\n",
       "      <td>79502.000000</td>\n",
       "      <td>79502.000000</td>\n",
       "      <td>79502.000000</td>\n",
       "      <td>79502.000000</td>\n",
       "      <td>7.908100e+04</td>\n",
       "      <td>7.950200e+04</td>\n",
       "    </tr>\n",
       "    <tr>\n",
       "      <th>mean</th>\n",
       "      <td>952.330256</td>\n",
       "      <td>65.716083</td>\n",
       "      <td>4587.807804</td>\n",
       "      <td>830.152122</td>\n",
       "      <td>1052.442706</td>\n",
       "      <td>6747.598425</td>\n",
       "      <td>10613.845035</td>\n",
       "      <td>1.150492e+04</td>\n",
       "      <td>2.727744e+04</td>\n",
       "    </tr>\n",
       "    <tr>\n",
       "      <th>std</th>\n",
       "      <td>5559.978775</td>\n",
       "      <td>707.960625</td>\n",
       "      <td>14454.139275</td>\n",
       "      <td>10877.681253</td>\n",
       "      <td>3276.231665</td>\n",
       "      <td>8306.675707</td>\n",
       "      <td>32689.785703</td>\n",
       "      <td>3.522053e+04</td>\n",
       "      <td>4.495340e+04</td>\n",
       "    </tr>\n",
       "    <tr>\n",
       "      <th>min</th>\n",
       "      <td>0.000000</td>\n",
       "      <td>0.000000</td>\n",
       "      <td>0.000000</td>\n",
       "      <td>-9600.000000</td>\n",
       "      <td>0.000000</td>\n",
       "      <td>0.000000</td>\n",
       "      <td>0.000000</td>\n",
       "      <td>-8.400000e+03</td>\n",
       "      <td>-7.980000e+03</td>\n",
       "    </tr>\n",
       "    <tr>\n",
       "      <th>25%</th>\n",
       "      <td>0.000000</td>\n",
       "      <td>0.000000</td>\n",
       "      <td>0.000000</td>\n",
       "      <td>0.000000</td>\n",
       "      <td>0.000000</td>\n",
       "      <td>0.000000</td>\n",
       "      <td>0.000000</td>\n",
       "      <td>0.000000e+00</td>\n",
       "      <td>8.000000e+03</td>\n",
       "    </tr>\n",
       "    <tr>\n",
       "      <th>50%</th>\n",
       "      <td>0.000000</td>\n",
       "      <td>0.000000</td>\n",
       "      <td>0.000000</td>\n",
       "      <td>0.000000</td>\n",
       "      <td>0.000000</td>\n",
       "      <td>1200.000000</td>\n",
       "      <td>0.000000</td>\n",
       "      <td>0.000000e+00</td>\n",
       "      <td>1.502000e+04</td>\n",
       "    </tr>\n",
       "    <tr>\n",
       "      <th>75%</th>\n",
       "      <td>0.000000</td>\n",
       "      <td>0.000000</td>\n",
       "      <td>0.000000</td>\n",
       "      <td>0.000000</td>\n",
       "      <td>0.000000</td>\n",
       "      <td>13000.000000</td>\n",
       "      <td>1800.000000</td>\n",
       "      <td>4.800000e+03</td>\n",
       "      <td>3.200000e+04</td>\n",
       "    </tr>\n",
       "    <tr>\n",
       "      <th>max</th>\n",
       "      <td>82000.000000</td>\n",
       "      <td>23900.000000</td>\n",
       "      <td>186000.000000</td>\n",
       "      <td>486000.000000</td>\n",
       "      <td>27400.000000</td>\n",
       "      <td>38700.000000</td>\n",
       "      <td>717000.000000</td>\n",
       "      <td>1.050000e+06</td>\n",
       "      <td>1.353000e+06</td>\n",
       "    </tr>\n",
       "  </tbody>\n",
       "</table>\n",
       "</div>"
      ],
      "text/plain": [
       "                OIP           PAP           RETP           SEMP          SSIP  \\\n",
       "count  79502.000000  79502.000000   79502.000000   79502.000000  79502.000000   \n",
       "mean     952.330256     65.716083    4587.807804     830.152122   1052.442706   \n",
       "std     5559.978775    707.960625   14454.139275   10877.681253   3276.231665   \n",
       "min        0.000000      0.000000       0.000000   -9600.000000      0.000000   \n",
       "25%        0.000000      0.000000       0.000000       0.000000      0.000000   \n",
       "50%        0.000000      0.000000       0.000000       0.000000      0.000000   \n",
       "75%        0.000000      0.000000       0.000000       0.000000      0.000000   \n",
       "max    82000.000000  23900.000000  186000.000000  486000.000000  27400.000000   \n",
       "\n",
       "                SSP           WAGP         PERNP         PINCP  \n",
       "count  79502.000000   79502.000000  7.908100e+04  7.950200e+04  \n",
       "mean    6747.598425   10613.845035  1.150492e+04  2.727744e+04  \n",
       "std     8306.675707   32689.785703  3.522053e+04  4.495340e+04  \n",
       "min        0.000000       0.000000 -8.400000e+03 -7.980000e+03  \n",
       "25%        0.000000       0.000000  0.000000e+00  8.000000e+03  \n",
       "50%     1200.000000       0.000000  0.000000e+00  1.502000e+04  \n",
       "75%    13000.000000    1800.000000  4.800000e+03  3.200000e+04  \n",
       "max    38700.000000  717000.000000  1.050000e+06  1.353000e+06  "
      ]
     },
     "execution_count": 22,
     "metadata": {},
     "output_type": "execute_result"
    }
   ],
   "source": [
    "df[[\"OIP\", \"PAP\", \"RETP\", \"SEMP\", \"SSIP\", \"SSP\", \"WAGP\", \"PERNP\", \"PINCP\"]].describe()"
   ]
  },
  {
   "cell_type": "markdown",
   "id": "977aeedb",
   "metadata": {},
   "source": [
    "#distribution of the income without the na values removed\n",
    "plt.figure()\n",
    "df[\"PINCP\"].hist(color = \"g\", bins = 10)"
   ]
  },
  {
   "cell_type": "markdown",
   "id": "63f48c72",
   "metadata": {},
   "source": [
    "exploring the total persons income (PINCP) and total person earnings (PERNP) without the n/a values "
   ]
  },
  {
   "cell_type": "code",
   "execution_count": 23,
   "id": "d42b9917",
   "metadata": {},
   "outputs": [],
   "source": [
    "#drop the NAN values because its respondants that are less than 16 years old.\n",
    "df_inc_earnings = df.dropna(subset = [\"PERNP\"])\n",
    "#drop the NAN values because its respondants that are less than 15 years old.\n",
    "df_inc_earnings = df.dropna(subset = [\"PINCP\"])"
   ]
  },
  {
   "cell_type": "code",
   "execution_count": 24,
   "id": "19134355",
   "metadata": {
    "scrolled": true
   },
   "outputs": [
    {
     "data": {
      "text/plain": [
       "0.0         8907\n",
       "12000.0     1570\n",
       "9000.0       954\n",
       "10000.0      833\n",
       "9300.0       796\n",
       "            ... \n",
       "3590.0         1\n",
       "270800.0       1\n",
       "277800.0       1\n",
       "18810.0        1\n",
       "50090.0        1\n",
       "Name: PINCP, Length: 4459, dtype: int64"
      ]
     },
     "execution_count": 24,
     "metadata": {},
     "output_type": "execute_result"
    }
   ],
   "source": [
    "df_inc_earnings[\"PINCP\"].value_counts()\n"
   ]
  },
  {
   "cell_type": "code",
   "execution_count": 25,
   "id": "702aeb3f",
   "metadata": {},
   "outputs": [
    {
     "data": {
      "text/plain": [
       " 0.0         56255\n",
       " 30000.0       710\n",
       " 40000.0       573\n",
       " 20000.0       571\n",
       " 50000.0       568\n",
       "             ...  \n",
       " 472000.0        1\n",
       "-1700.0          1\n",
       " 63600.0         1\n",
       " 393500.0        1\n",
       " 48900.0         1\n",
       "Name: PERNP, Length: 996, dtype: int64"
      ]
     },
     "execution_count": 25,
     "metadata": {},
     "output_type": "execute_result"
    }
   ],
   "source": [
    "df_inc_earnings[\"PERNP\"].value_counts()"
   ]
  },
  {
   "cell_type": "code",
   "execution_count": 26,
   "id": "85054497",
   "metadata": {
    "scrolled": false
   },
   "outputs": [
    {
     "data": {
      "text/html": [
       "<div>\n",
       "<style scoped>\n",
       "    .dataframe tbody tr th:only-of-type {\n",
       "        vertical-align: middle;\n",
       "    }\n",
       "\n",
       "    .dataframe tbody tr th {\n",
       "        vertical-align: top;\n",
       "    }\n",
       "\n",
       "    .dataframe thead th {\n",
       "        text-align: right;\n",
       "    }\n",
       "</style>\n",
       "<table border=\"1\" class=\"dataframe\">\n",
       "  <thead>\n",
       "    <tr style=\"text-align: right;\">\n",
       "      <th></th>\n",
       "      <th>PINCP</th>\n",
       "      <th>PERNP</th>\n",
       "    </tr>\n",
       "  </thead>\n",
       "  <tbody>\n",
       "    <tr>\n",
       "      <th>count</th>\n",
       "      <td>7.950200e+04</td>\n",
       "      <td>7.908100e+04</td>\n",
       "    </tr>\n",
       "    <tr>\n",
       "      <th>mean</th>\n",
       "      <td>2.727744e+04</td>\n",
       "      <td>1.150492e+04</td>\n",
       "    </tr>\n",
       "    <tr>\n",
       "      <th>std</th>\n",
       "      <td>4.495340e+04</td>\n",
       "      <td>3.522053e+04</td>\n",
       "    </tr>\n",
       "    <tr>\n",
       "      <th>min</th>\n",
       "      <td>-7.980000e+03</td>\n",
       "      <td>-8.400000e+03</td>\n",
       "    </tr>\n",
       "    <tr>\n",
       "      <th>25%</th>\n",
       "      <td>8.000000e+03</td>\n",
       "      <td>0.000000e+00</td>\n",
       "    </tr>\n",
       "    <tr>\n",
       "      <th>50%</th>\n",
       "      <td>1.502000e+04</td>\n",
       "      <td>0.000000e+00</td>\n",
       "    </tr>\n",
       "    <tr>\n",
       "      <th>75%</th>\n",
       "      <td>3.200000e+04</td>\n",
       "      <td>4.800000e+03</td>\n",
       "    </tr>\n",
       "    <tr>\n",
       "      <th>max</th>\n",
       "      <td>1.353000e+06</td>\n",
       "      <td>1.050000e+06</td>\n",
       "    </tr>\n",
       "  </tbody>\n",
       "</table>\n",
       "</div>"
      ],
      "text/plain": [
       "              PINCP         PERNP\n",
       "count  7.950200e+04  7.908100e+04\n",
       "mean   2.727744e+04  1.150492e+04\n",
       "std    4.495340e+04  3.522053e+04\n",
       "min   -7.980000e+03 -8.400000e+03\n",
       "25%    8.000000e+03  0.000000e+00\n",
       "50%    1.502000e+04  0.000000e+00\n",
       "75%    3.200000e+04  4.800000e+03\n",
       "max    1.353000e+06  1.050000e+06"
      ]
     },
     "execution_count": 26,
     "metadata": {},
     "output_type": "execute_result"
    }
   ],
   "source": [
    "df_inc_earnings [[\"PINCP\", \"PERNP\"]].describe()"
   ]
  },
  {
   "cell_type": "code",
   "execution_count": 27,
   "id": "461c503a",
   "metadata": {},
   "outputs": [
    {
     "data": {
      "text/plain": [
       "(79502, 53)"
      ]
     },
     "execution_count": 27,
     "metadata": {},
     "output_type": "execute_result"
    }
   ],
   "source": [
    "df_inc_earnings.shape"
   ]
  },
  {
   "cell_type": "code",
   "execution_count": 28,
   "id": "c0fb0ccd",
   "metadata": {
    "scrolled": true
   },
   "outputs": [
    {
     "data": {
      "text/plain": [
       "array([[<AxesSubplot:title={'center':'PINCP'}>,\n",
       "        <AxesSubplot:title={'center':'PERNP'}>]], dtype=object)"
      ]
     },
     "execution_count": 28,
     "metadata": {},
     "output_type": "execute_result"
    },
    {
     "data": {
      "text/plain": [
       "<Figure size 432x288 with 0 Axes>"
      ]
     },
     "metadata": {},
     "output_type": "display_data"
    },
    {
     "data": {
      "image/png": "[encoded data removed]",
      "text/plain": [
       "<Figure size 432x288 with 2 Axes>"
      ]
     },
     "metadata": {
      "needs_background": "light"
     },
     "output_type": "display_data"
    }
   ],
   "source": [
    "plt.figure()\n",
    "df_inc_earnings[[\"PINCP\", \"PERNP\"]].hist(color = \"g\", bins = 10)"
   ]
  },
  {
   "cell_type": "markdown",
   "id": "64619abf",
   "metadata": {},
   "source": [
    "plt.figure()\n",
    "df_earnings[\"PERNP\"].hist(color = \"g\", bins = 10)\n",
    "df_income[[\"PINCP\"]].plot.hist(\"Total Income\")"
   ]
  },
  {
   "cell_type": "code",
   "execution_count": 29,
   "id": "9f17813d",
   "metadata": {},
   "outputs": [
    {
     "data": {
      "text/plain": [
       "<AxesSubplot:>"
      ]
     },
     "execution_count": 29,
     "metadata": {},
     "output_type": "execute_result"
    },
    {
     "data": {
      "text/plain": [
       "<Figure size 720x1080 with 0 Axes>"
      ]
     },
     "metadata": {},
     "output_type": "display_data"
    },
    {
     "data": {
      "image/png": "[encoded data removed]",
      "text/plain": [
       "<Figure size 432x288 with 1 Axes>"
      ]
     },
     "metadata": {
      "needs_background": "light"
     },
     "output_type": "display_data"
    }
   ],
   "source": [
    "plt.figure(figsize =(10,15))\n",
    "df_inc_earnings[[\"PINCP\", \"PERNP\"]].plot.box(\"Total Income\")"
   ]
  },
  {
   "cell_type": "raw",
   "id": "c9902b8c",
   "metadata": {},
   "source": [
    "#ADJINC annual update of the inflation factor.\n",
    "#Divide the value in ADJINC by 1,000,000\n",
    "df[\"ADJINC\"].value_counts()\n",
    "#divide the value in ADJINC by 1,000,000\n",
    "num = 1000000.00\n",
    "df[\"ADJINC\"] = df[\"ADJINC\"].rdiv(num).replace(np.inf,0).astype('float64')#multiply the new ADJINC value with PINCP to adjust it to 2019 dollars\n",
    "df[\"AD_INCOME\"]= (df[\"PINCP\"] * df[\"ADJINC\"]).round(2) \n"
   ]
  },
  {
   "cell_type": "code",
   "execution_count": 30,
   "id": "eef74044",
   "metadata": {
    "scrolled": true
   },
   "outputs": [
    {
     "data": {
      "text/plain": [
       "1010145    79502\n",
       "Name: ADJINC, dtype: int64"
      ]
     },
     "execution_count": 30,
     "metadata": {},
     "output_type": "execute_result"
    }
   ],
   "source": [
    "df_inc_earnings[\"ADJINC\"].value_counts()"
   ]
  },
  {
   "cell_type": "code",
   "execution_count": 31,
   "id": "03bf43ea",
   "metadata": {},
   "outputs": [],
   "source": [
    "#ADJINC annual update of the inflation factor.\n",
    "#Divide the value in ADJINC by 1,000,000\n",
    "\n",
    "num = 1000000.00\n",
    "adjust_fac = (df_inc_earnings[\"ADJINC\"] / num )"
   ]
  },
  {
   "cell_type": "code",
   "execution_count": 32,
   "id": "7cfdf065",
   "metadata": {
    "scrolled": true
   },
   "outputs": [
    {
     "data": {
      "text/plain": [
       "0        1.010145\n",
       "1        1.010145\n",
       "2        1.010145\n",
       "3        1.010145\n",
       "4        1.010145\n",
       "           ...   \n",
       "82988    1.010145\n",
       "82989    1.010145\n",
       "82990    1.010145\n",
       "82991    1.010145\n",
       "82993    1.010145\n",
       "Name: ADJINC, Length: 79502, dtype: float64"
      ]
     },
     "execution_count": 32,
     "metadata": {},
     "output_type": "execute_result"
    }
   ],
   "source": [
    "adjust_fac"
   ]
  },
  {
   "cell_type": "code",
   "execution_count": 33,
   "id": "2a5889cf",
   "metadata": {},
   "outputs": [
    {
     "data": {
      "text/plain": [
       "count    7.908100e+04\n",
       "mean     1.150492e+04\n",
       "std      3.522053e+04\n",
       "min     -8.400000e+03\n",
       "25%      0.000000e+00\n",
       "50%      0.000000e+00\n",
       "75%      4.800000e+03\n",
       "max      1.050000e+06\n",
       "Name: PERNP, dtype: float64"
      ]
     },
     "execution_count": 33,
     "metadata": {},
     "output_type": "execute_result"
    }
   ],
   "source": [
    "df_inc_earnings[\"PERNP\"].describe()"
   ]
  },
  {
   "cell_type": "code",
   "execution_count": 34,
   "id": "78274626",
   "metadata": {},
   "outputs": [],
   "source": [
    "adjusted_earnings = (df_inc_earnings[\"PERNP\"] * adjust_fac)"
   ]
  },
  {
   "cell_type": "code",
   "execution_count": 35,
   "id": "1219b343",
   "metadata": {},
   "outputs": [
    {
     "data": {
      "text/plain": [
       "count    7.908100e+04\n",
       "mean     1.162164e+04\n",
       "std      3.557784e+04\n",
       "min     -8.485218e+03\n",
       "25%      0.000000e+00\n",
       "50%      0.000000e+00\n",
       "75%      4.848696e+03\n",
       "max      1.060652e+06\n",
       "dtype: float64"
      ]
     },
     "execution_count": 35,
     "metadata": {},
     "output_type": "execute_result"
    }
   ],
   "source": [
    "adjusted_earnings.describe()"
   ]
  },
  {
   "cell_type": "code",
   "execution_count": 36,
   "id": "4a4a8a2a",
   "metadata": {
    "scrolled": false
   },
   "outputs": [
    {
     "data": {
      "text/plain": [
       "count    7.950200e+04\n",
       "mean     2.755417e+04\n",
       "std      4.540946e+04\n",
       "min     -8.060957e+03\n",
       "25%      8.081160e+03\n",
       "50%      1.517238e+04\n",
       "75%      3.232464e+04\n",
       "max      1.366726e+06\n",
       "dtype: float64"
      ]
     },
     "execution_count": 36,
     "metadata": {},
     "output_type": "execute_result"
    }
   ],
   "source": [
    "adjusted_income = (df_inc_earnings[\"PINCP\"] * adjust_fac)\n",
    "adjusted_income.describe()"
   ]
  },
  {
   "cell_type": "code",
   "execution_count": 37,
   "id": "db6744ad",
   "metadata": {
    "scrolled": true
   },
   "outputs": [
    {
     "data": {
      "text/html": [
       "<div>\n",
       "<style scoped>\n",
       "    .dataframe tbody tr th:only-of-type {\n",
       "        vertical-align: middle;\n",
       "    }\n",
       "\n",
       "    .dataframe tbody tr th {\n",
       "        vertical-align: top;\n",
       "    }\n",
       "\n",
       "    .dataframe thead th {\n",
       "        text-align: right;\n",
       "    }\n",
       "</style>\n",
       "<table border=\"1\" class=\"dataframe\">\n",
       "  <thead>\n",
       "    <tr style=\"text-align: right;\">\n",
       "      <th></th>\n",
       "      <th>0</th>\n",
       "      <th>fed_ad</th>\n",
       "    </tr>\n",
       "  </thead>\n",
       "  <tbody>\n",
       "    <tr>\n",
       "      <th>0</th>\n",
       "      <td>606.0870</td>\n",
       "      <td>517.598298</td>\n",
       "    </tr>\n",
       "    <tr>\n",
       "      <th>1</th>\n",
       "      <td>8990.2905</td>\n",
       "      <td>7677.708087</td>\n",
       "    </tr>\n",
       "    <tr>\n",
       "      <th>2</th>\n",
       "      <td>10909.5660</td>\n",
       "      <td>9316.769364</td>\n",
       "    </tr>\n",
       "    <tr>\n",
       "      <th>3</th>\n",
       "      <td>10909.5660</td>\n",
       "      <td>9316.769364</td>\n",
       "    </tr>\n",
       "    <tr>\n",
       "      <th>4</th>\n",
       "      <td>0.0000</td>\n",
       "      <td>0.000000</td>\n",
       "    </tr>\n",
       "    <tr>\n",
       "      <th>...</th>\n",
       "      <td>...</td>\n",
       "      <td>...</td>\n",
       "    </tr>\n",
       "    <tr>\n",
       "      <th>82988</th>\n",
       "      <td>10303.4790</td>\n",
       "      <td>8799.171066</td>\n",
       "    </tr>\n",
       "    <tr>\n",
       "      <th>82989</th>\n",
       "      <td>14142.0300</td>\n",
       "      <td>12077.293620</td>\n",
       "    </tr>\n",
       "    <tr>\n",
       "      <th>82990</th>\n",
       "      <td>13636.9575</td>\n",
       "      <td>11645.961705</td>\n",
       "    </tr>\n",
       "    <tr>\n",
       "      <th>82991</th>\n",
       "      <td>45456.5250</td>\n",
       "      <td>43865.546625</td>\n",
       "    </tr>\n",
       "    <tr>\n",
       "      <th>82993</th>\n",
       "      <td>0.0000</td>\n",
       "      <td>0.000000</td>\n",
       "    </tr>\n",
       "  </tbody>\n",
       "</table>\n",
       "<p>79502 rows × 2 columns</p>\n",
       "</div>"
      ],
      "text/plain": [
       "                0        fed_ad\n",
       "0        606.0870    517.598298\n",
       "1       8990.2905   7677.708087\n",
       "2      10909.5660   9316.769364\n",
       "3      10909.5660   9316.769364\n",
       "4          0.0000      0.000000\n",
       "...           ...           ...\n",
       "82988  10303.4790   8799.171066\n",
       "82989  14142.0300  12077.293620\n",
       "82990  13636.9575  11645.961705\n",
       "82991  45456.5250  43865.546625\n",
       "82993      0.0000      0.000000\n",
       "\n",
       "[79502 rows x 2 columns]"
      ]
     },
     "execution_count": 37,
     "metadata": {},
     "output_type": "execute_result"
    }
   ],
   "source": [
    "AD_IN = pd.DataFrame(adjusted_income)\n",
    "AD_IN['fed_ad'] = np.where(AD_IN[0] > 42269, AD_IN[0] * 0.965, AD_IN[0] * 0.854)\n",
    "AD_IN"
   ]
  },
  {
   "cell_type": "code",
   "execution_count": 38,
   "id": "34cf5541",
   "metadata": {},
   "outputs": [],
   "source": [
    "AD_IN['st_lo'] = AD_IN['fed_ad'] * 0.901"
   ]
  },
  {
   "cell_type": "code",
   "execution_count": 39,
   "id": "ec4e5393",
   "metadata": {
    "scrolled": true
   },
   "outputs": [
    {
     "data": {
      "text/html": [
       "<div>\n",
       "<style scoped>\n",
       "    .dataframe tbody tr th:only-of-type {\n",
       "        vertical-align: middle;\n",
       "    }\n",
       "\n",
       "    .dataframe tbody tr th {\n",
       "        vertical-align: top;\n",
       "    }\n",
       "\n",
       "    .dataframe thead th {\n",
       "        text-align: right;\n",
       "    }\n",
       "</style>\n",
       "<table border=\"1\" class=\"dataframe\">\n",
       "  <thead>\n",
       "    <tr style=\"text-align: right;\">\n",
       "      <th></th>\n",
       "      <th>0</th>\n",
       "      <th>fed_ad</th>\n",
       "      <th>st_lo</th>\n",
       "    </tr>\n",
       "  </thead>\n",
       "  <tbody>\n",
       "    <tr>\n",
       "      <th>0</th>\n",
       "      <td>606.0870</td>\n",
       "      <td>517.598298</td>\n",
       "      <td>466.356066</td>\n",
       "    </tr>\n",
       "    <tr>\n",
       "      <th>1</th>\n",
       "      <td>8990.2905</td>\n",
       "      <td>7677.708087</td>\n",
       "      <td>6917.614986</td>\n",
       "    </tr>\n",
       "    <tr>\n",
       "      <th>2</th>\n",
       "      <td>10909.5660</td>\n",
       "      <td>9316.769364</td>\n",
       "      <td>8394.409197</td>\n",
       "    </tr>\n",
       "    <tr>\n",
       "      <th>3</th>\n",
       "      <td>10909.5660</td>\n",
       "      <td>9316.769364</td>\n",
       "      <td>8394.409197</td>\n",
       "    </tr>\n",
       "    <tr>\n",
       "      <th>4</th>\n",
       "      <td>0.0000</td>\n",
       "      <td>0.000000</td>\n",
       "      <td>0.000000</td>\n",
       "    </tr>\n",
       "    <tr>\n",
       "      <th>...</th>\n",
       "      <td>...</td>\n",
       "      <td>...</td>\n",
       "      <td>...</td>\n",
       "    </tr>\n",
       "    <tr>\n",
       "      <th>82988</th>\n",
       "      <td>10303.4790</td>\n",
       "      <td>8799.171066</td>\n",
       "      <td>7928.053130</td>\n",
       "    </tr>\n",
       "    <tr>\n",
       "      <th>82989</th>\n",
       "      <td>14142.0300</td>\n",
       "      <td>12077.293620</td>\n",
       "      <td>10881.641552</td>\n",
       "    </tr>\n",
       "    <tr>\n",
       "      <th>82990</th>\n",
       "      <td>13636.9575</td>\n",
       "      <td>11645.961705</td>\n",
       "      <td>10493.011496</td>\n",
       "    </tr>\n",
       "    <tr>\n",
       "      <th>82991</th>\n",
       "      <td>45456.5250</td>\n",
       "      <td>43865.546625</td>\n",
       "      <td>39522.857509</td>\n",
       "    </tr>\n",
       "    <tr>\n",
       "      <th>82993</th>\n",
       "      <td>0.0000</td>\n",
       "      <td>0.000000</td>\n",
       "      <td>0.000000</td>\n",
       "    </tr>\n",
       "  </tbody>\n",
       "</table>\n",
       "<p>79502 rows × 3 columns</p>\n",
       "</div>"
      ],
      "text/plain": [
       "                0        fed_ad         st_lo\n",
       "0        606.0870    517.598298    466.356066\n",
       "1       8990.2905   7677.708087   6917.614986\n",
       "2      10909.5660   9316.769364   8394.409197\n",
       "3      10909.5660   9316.769364   8394.409197\n",
       "4          0.0000      0.000000      0.000000\n",
       "...           ...           ...           ...\n",
       "82988  10303.4790   8799.171066   7928.053130\n",
       "82989  14142.0300  12077.293620  10881.641552\n",
       "82990  13636.9575  11645.961705  10493.011496\n",
       "82991  45456.5250  43865.546625  39522.857509\n",
       "82993      0.0000      0.000000      0.000000\n",
       "\n",
       "[79502 rows x 3 columns]"
      ]
     },
     "execution_count": 39,
     "metadata": {},
     "output_type": "execute_result"
    }
   ],
   "source": [
    "AD_IN"
   ]
  },
  {
   "cell_type": "code",
   "execution_count": 40,
   "id": "74762c7d",
   "metadata": {
    "scrolled": true
   },
   "outputs": [
    {
     "data": {
      "text/plain": [
       "count    7.950200e+04\n",
       "mean     2.529562e+04\n",
       "std      4.397202e+04\n",
       "min     -6.884057e+03\n",
       "25%      6.901311e+03\n",
       "50%      1.295721e+04\n",
       "75%      2.760524e+04\n",
       "max      1.318891e+06\n",
       "Name: fed_ad, dtype: float64"
      ]
     },
     "execution_count": 40,
     "metadata": {},
     "output_type": "execute_result"
    }
   ],
   "source": [
    "AD_IN['fed_ad'].describe()"
   ]
  },
  {
   "cell_type": "code",
   "execution_count": 41,
   "id": "9c10df51",
   "metadata": {
    "scrolled": true
   },
   "outputs": [
    {
     "data": {
      "text/plain": [
       "count    7.950200e+04\n",
       "mean     2.279136e+04\n",
       "std      3.961879e+04\n",
       "min     -6.202536e+03\n",
       "25%      6.218081e+03\n",
       "50%      1.167445e+04\n",
       "75%      2.487232e+04\n",
       "max      1.188321e+06\n",
       "Name: st_lo, dtype: float64"
      ]
     },
     "execution_count": 41,
     "metadata": {},
     "output_type": "execute_result"
    }
   ],
   "source": [
    "AD_IN['st_lo'].describe()"
   ]
  },
  {
   "cell_type": "code",
   "execution_count": 42,
   "id": "2e371211",
   "metadata": {},
   "outputs": [
    {
     "data": {
      "text/plain": [
       "1811958494.822867"
      ]
     },
     "execution_count": 42,
     "metadata": {},
     "output_type": "execute_result"
    }
   ],
   "source": [
    "total_dis = AD_IN['st_lo'].sum()\n",
    "total_dis"
   ]
  },
  {
   "cell_type": "code",
   "execution_count": 43,
   "id": "a4188778",
   "metadata": {},
   "outputs": [
    {
     "data": {
      "text/plain": [
       "0         61\n",
       "1        107\n",
       "2        125\n",
       "3         11\n",
       "4          9\n",
       "        ... \n",
       "82988    114\n",
       "82989    229\n",
       "82990    221\n",
       "82991     26\n",
       "82993     60\n",
       "Name: PWGTP, Length: 79502, dtype: int64"
      ]
     },
     "execution_count": 43,
     "metadata": {},
     "output_type": "execute_result"
    }
   ],
   "source": [
    "df_inc_earnings[\"PWGTP\"] "
   ]
  },
  {
   "cell_type": "code",
   "execution_count": 44,
   "id": "70b2ae3e",
   "metadata": {},
   "outputs": [],
   "source": [
    "pop_disp_inc = df_inc_earnings[\"PWGTP\"] * AD_IN['st_lo']"
   ]
  },
  {
   "cell_type": "code",
   "execution_count": 45,
   "id": "89487070",
   "metadata": {
    "scrolled": false
   },
   "outputs": [
    {
     "data": {
      "text/plain": [
       "0        2.844772e+04\n",
       "1        7.401848e+05\n",
       "2        1.049301e+06\n",
       "3        9.233850e+04\n",
       "4        0.000000e+00\n",
       "             ...     \n",
       "82988    9.037981e+05\n",
       "82989    2.491896e+06\n",
       "82990    2.318956e+06\n",
       "82991    1.027594e+06\n",
       "82993    0.000000e+00\n",
       "Length: 79502, dtype: float64"
      ]
     },
     "execution_count": 45,
     "metadata": {},
     "output_type": "execute_result"
    }
   ],
   "source": [
    "pop_disp_inc "
   ]
  },
  {
   "cell_type": "code",
   "execution_count": 51,
   "id": "26e4e54c",
   "metadata": {},
   "outputs": [
    {
     "data": {
      "text/plain": [
       "166460013499.64987"
      ]
     },
     "execution_count": 51,
     "metadata": {},
     "output_type": "execute_result"
    }
   ],
   "source": [
    "low_vision_DI = pop_disp_inc.sum()\n",
    "low_vision_DI"
   ]
  },
  {
   "cell_type": "code",
   "execution_count": 53,
   "id": "91dfebe4",
   "metadata": {},
   "outputs": [
    {
     "data": {
      "text/plain": [
       "41615003374.91247"
      ]
     },
     "execution_count": 53,
     "metadata": {},
     "output_type": "execute_result"
    }
   ],
   "source": [
    "Online_Shop_amt = low_vision_DI * .25\n",
    "Online_Shop_amt"
   ]
  },
  {
   "cell_type": "code",
   "execution_count": null,
   "id": "e43f8d5d",
   "metadata": {},
   "outputs": [],
   "source": [
    "plt.figure(figsize = (10,15))\n",
    "adjusted_income.plot.box()\n",
    "plt.title(\"Adjusted total Income Distribution\")\n",
    "plt.ylabel(\"income\" )"
   ]
  },
  {
   "cell_type": "code",
   "execution_count": null,
   "id": "54fb863f",
   "metadata": {
    "scrolled": true
   },
   "outputs": [],
   "source": [
    "df_inc_earnings[\"PWGTP\"]"
   ]
  },
  {
   "cell_type": "code",
   "execution_count": null,
   "id": "09b11714",
   "metadata": {},
   "outputs": [],
   "source": [
    "df[\"OCCP\"].value_counts()"
   ]
  },
  {
   "cell_type": "code",
   "execution_count": null,
   "id": "b5fe8a7b",
   "metadata": {
    "scrolled": true
   },
   "outputs": [],
   "source": [
    "sns.boxplot(x = \"AGE_BINS\", y='PINCP', data = df_income)\n",
    "plt.title(\"Boxplot of Age vs. Total income\")"
   ]
  },
  {
   "cell_type": "code",
   "execution_count": null,
   "id": "f2bd085b",
   "metadata": {},
   "outputs": [],
   "source": [
    "plt.figure(figsize = (10,15))\n",
    "sns.boxplot(x = \"SEX\", y='PINCP', data = df_income)\n",
    "plt.title(\"Boxplot of SEX vs. Total income\")"
   ]
  },
  {
   "cell_type": "code",
   "execution_count": null,
   "id": "adf532f5",
   "metadata": {
    "scrolled": true
   },
   "outputs": [],
   "source": [
    "plt.figure(figsize=(10,15))\n",
    "sns.boxplot(x='AGE_BINS',y='PINCP',data=df)\n",
    "plt.title(\"Age by Total Income of the vision impaired\")\n",
    "plt.xlabel(\"Age\")\n",
    "plt.ylabel(\"income\")"
   ]
  },
  {
   "cell_type": "code",
   "execution_count": null,
   "id": "14879941",
   "metadata": {
    "scrolled": true
   },
   "outputs": [],
   "source": [
    "df[\"ADJINC\"].head(5)"
   ]
  },
  {
   "cell_type": "code",
   "execution_count": null,
   "id": "ef52440c",
   "metadata": {
    "scrolled": false
   },
   "outputs": [],
   "source": [
    "df[\"AD_INCOME\"].describe()"
   ]
  },
  {
   "cell_type": "code",
   "execution_count": null,
   "id": "dc67e65e",
   "metadata": {},
   "outputs": [],
   "source": [
    "df.columns"
   ]
  },
  {
   "cell_type": "code",
   "execution_count": null,
   "id": "a834a286",
   "metadata": {},
   "outputs": [],
   "source": [
    "df[\"POP_EST\"] = (df[\"AD_INCOME\"] * df[\"PWGTP\"])"
   ]
  },
  {
   "cell_type": "code",
   "execution_count": null,
   "id": "d044bef8",
   "metadata": {},
   "outputs": [],
   "source": [
    "plt.figure(figsize = (10,15))\n",
    "sns.boxplot(x = \"SEX\", y='AD_INCOME', data = df)\n",
    "plt.title(\"Boxplot of SEX vs. Adjusted Total income\")"
   ]
  },
  {
   "cell_type": "code",
   "execution_count": null,
   "id": "bc3d2bec",
   "metadata": {},
   "outputs": [],
   "source": [
    "plt.figure(figsize=(8,5))\n",
    "sns.boxplot(x='DEYE',y='AGEP',data=df_new)\n",
    "plt.title(\"Age by vision difficulty\")\n",
    "plt.xlabel(\"Presence of vision difficulty\")\n",
    "plt.ylabel(\"Age\")"
   ]
  }
 ],
 "metadata": {
  "kernelspec": {
   "display_name": "Python 3 (ipykernel)",
   "language": "python",
   "name": "python3"
  },
  "language_info": {
   "codemirror_mode": {
    "name": "ipython",
    "version": 3
   },
   "file_extension": ".py",
   "mimetype": "text/x-python",
   "name": "python",
   "nbconvert_exporter": "python",
   "pygments_lexer": "ipython3",
   "version": "3.9.7"
  }
 },
 "nbformat": 4,
 "nbformat_minor": 5
}
