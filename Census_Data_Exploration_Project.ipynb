{
 "cells": [
  {
   "cell_type": "code",
   "execution_count": null,
   "id": "8fdb8f41",
   "metadata": {},
   "outputs": [],
   "source": [
    "import pandas as pd\n",
    "import numpy as np\n",
    "import matplotlib.pyplot as plt\n",
    "import seaborn as sns\n",
    "import math"
   ]
  },
  {
   "cell_type": "raw",
   "id": "3755dda2",
   "metadata": {},
   "source": [
    "#!unzip csv_pus.zip\n",
    "## convert the deye col\n",
    "deye = {1: 'yes', 2:'no'}\n",
    "df_new[\"DEYE\"] = df_new[\"DEYE\"].map(deye) \n",
    "\n",
    "# convert the region col\n",
    "region = {1: 'Northeast', 2: 'Midwest', 3: 'South', 4: 'West', 9: 'Puerto Rico'}\n",
    "df_new[\"REGION\"] = df_new[\"REGION\"].map(region)\n",
    "\n",
    "# convert the st col\n",
    "st = {1: 'Alabama', 2: 'Alaska', 4: 'Arizona', 5: 'Arkansas', 6: 'California', 8: 'Colorado', 9: 'Connecticut',\n",
    "      10: 'Delaware', 11: 'District of Columbia', 12: 'Florida', 13: 'Georgia', 15: 'Hawaii', 16: 'Idaho', 17: 'Illinois',\n",
    "      18: 'Indiana', 19: 'Iowa', 20: 'Kansas', 21: 'Kentucky', 22: 'Louisiana', 23: 'Maine', 24: 'Maryland', \n",
    "      25: 'Massachusetts', 26: 'Michigan', 27: 'Minnesota', 28: 'Mississippi', 29: 'Missouri', 30: 'Montana', 31: 'Nebraska',\n",
    "      32: 'Nevada', 33: 'New Hampshire', 34: 'New Jersey', 35: 'New Mexico', 36: 'New York', 37: 'North Carolina',\n",
    "      38: 'North Dakota', 39: 'Ohio', 40: 'Oklahoma', 41: 'Oregon', 42: 'Pennsylvania', 44: 'Rhode Island',45: 'South Carolina',\n",
    "      46: 'South Dakota', 47: 'Tennessee', 48: 'Texas', 49: 'Utah', 50: 'Vermont', 51: 'Virginia', 53: 'Washington',\n",
    "      54: 'West Virginia', 55: 'Wisconsin', 56: 'Wyoming', 72: 'Puerto Rico'}\n",
    "\n",
    "df_new[\"ST\"] = df_new[\"ST\"].map(st) \n",
    "\n",
    "# convert division \n",
    "division = {0: 'Puerto Rico', 1: 'New England', 2: 'Middle Atlantic', 3: 'East North Central', 4: 'West North Central', \n",
    "          5: 'South Atlantic', 6:'East South Central', 7:'West South Central', 8:'Mountain', 9:'Pacific'}\n",
    "df_new[\"DIVISION\"] = df_new[\"DIVISION\"].map(division)\n",
    "\n",
    "sex = {1: 'Male', 2: 'Female'}\n",
    "df_new[\"SEX\"] = df_new[\"SEX\"].map(sex)\n",
    "\n",
    "#x = df_new.isna().any() == True\n",
    "x = df_new.columns[df_new.isna().any()].tolist()\n",
    "#len(x)\n",
    "x\n",
    "\n",
    "division_df = df_new['DIVISION'].value_counts()\n",
    "\n",
    "division_df.plot.bar()\n",
    "plt.xlabel(\"Division\")\n",
    "plt.ylabel(\"Number of people\")\n",
    "plt.title(\"Distribution of the Division\")\n",
    "\n",
    "\n",
    "df_new['AGEP'].describe()\n",
    "\n",
    "df_new['AGEP'].describe()['min']\n",
    "\n",
    "\n",
    "\n",
    "### group the age into bins\n",
    "\n",
    "bins = [0, 18, 30, 40, 50, 60, 70, 120]\n",
    "labels = ['0-17','18-29', '30-39', '40-49', '50-59', '60-69', '70+']\n",
    "df_new['AGE_RANGE'] = pd.cut(df_new.AGEP, bins, labels = labels,include_lowest = True)\n",
    "df_new.head(10)\n",
    "\n",
    "\n",
    "ages = df_new['AGE_RANGE'].value_counts()\n",
    "ages.sort_index()\n",
    "ages.plot.bar()\n",
    "plt.xlabel(\"Age Groups\")\n",
    "plt.ylabel(\"Number of people\")\n",
    "plt.title(\"Distribution of the ages\")\n",
    "\n",
    "\n",
    "\n",
    "plt.pie(vision,labels=vision.index,autopct='%1.1f%%')\n",
    "\n",
    "#plt.axis('equal')\n",
    "plt.title(\"Distribution of the Vision Difficulty\")\n",
    "plt.show()\n",
    "\n",
    "\n",
    "plt.figure(figsize=(8,5))\n",
    "sns.boxplot(x='DEYE',y='AGEP',data=df_new)\n",
    "plt.title(\"Age by vision difficulty\")\n",
    "plt.xlabel(\"Presence of vision difficulty\")\n",
    "plt.ylabel(\"Age\")\n",
    "\n",
    "\n",
    "\n",
    "df_new2 = df_new[df_new['DEYE'] == 'yes']\n",
    "df_new2.describe()\n",
    "\n",
    "gender2 = df_new2['SEX'].value_counts()\n",
    "gender2.plot.bar()\n",
    "plt.xlabel(\"Sex\")\n",
    "plt.ylabel(\"Number of people\")\n",
    "plt.title(\"Distribution of the sex amongst the visually impaired\")\n",
    "\n",
    "\n",
    "\n",
    "\n"
   ]
  },
  {
   "cell_type": "code",
   "execution_count": null,
   "id": "e8daa89e",
   "metadata": {},
   "outputs": [],
   "source": [
    "#reading the data file\n",
    "df = pd.read_csv(\"Downloads/csv_pus/psam_pusa.csv\") "
   ]
  },
  {
   "cell_type": "code",
   "execution_count": null,
   "id": "5bed27cd",
   "metadata": {},
   "outputs": [],
   "source": [
    "df.info() #obtaining basic information about the data"
   ]
  },
  {
   "cell_type": "code",
   "execution_count": null,
   "id": "4ba3aef0",
   "metadata": {},
   "outputs": [],
   "source": [
    "df.columns #getting an overview of the columns in the data"
   ]
  },
  {
   "cell_type": "code",
   "execution_count": null,
   "id": "37322820",
   "metadata": {},
   "outputs": [],
   "source": [
    "df.shape #an idea of the shape of the data which shows the rows and columns"
   ]
  },
  {
   "cell_type": "code",
   "execution_count": null,
   "id": "3cfc3341",
   "metadata": {
    "scrolled": true
   },
   "outputs": [],
   "source": [
    "df.sample(5) #gives a random sample of the data"
   ]
  },
  {
   "cell_type": "code",
   "execution_count": null,
   "id": "cec07f8e",
   "metadata": {},
   "outputs": [],
   "source": [
    "def remove_housing_RT(df):\n",
    "    \"\"\"\n",
    "    removes all rows that consis of the value H in the column RT\n",
    "    Arguments:\n",
    "    'df': A pandas DataFrame\n",
    "    Outputs\n",
    "    'df': A pandas DataFrame containing only the person record types\n",
    "    \"\"\"\n",
    "    df['RT'] = df['RT'].str.strip()\n",
    "    df_P_copy = df[df.RT != (\"H\")]\n",
    "    df = df_P_copy\n",
    "    return df"
   ]
  },
  {
   "cell_type": "code",
   "execution_count": null,
   "id": "843c09be",
   "metadata": {
    "scrolled": true
   },
   "outputs": [],
   "source": [
    "remove_housing_RT(df).sample(5)"
   ]
  },
  {
   "cell_type": "code",
   "execution_count": null,
   "id": "5eccb9c7",
   "metadata": {},
   "outputs": [],
   "source": [
    "len(df)"
   ]
  },
  {
   "cell_type": "code",
   "execution_count": null,
   "id": "9b2b4f40",
   "metadata": {},
   "outputs": [],
   "source": [
    "Var_of_int = df.loc[:, [\"REGION\",\"DIVISION\", \"ST\", \"AGEP\", \"COW\", \"DEYE\", \"NWAV\", \"NWLA\", \"NWLK\", \"SCH\", \"SCHG\", \"SCHL\", \n",
    "           \"SEX\", \"WKL\", \"DIS\", \"ESR\", \"FOD1P\", \"FOD2P\", \"HICOV\", \"INDP\", \"NAICSP\", \"OCCP\", \"PERNP\", \"PINCP\",\n",
    "          \"POWSP\", \"RAC1P\", \"RAC2P\", \"RAC3P\", \"RACAIAN\", \"RACASN\", \"RACBLK\", \"RACWHT\", \"SCIENGP\", \"SCIENGRLP\",\n",
    "          \"SOCP\", \"FDEYEP\", \"PWGTP1\", \"ADJINC\", \"DDRS\", \"DEAR\", \"DOUT\", \"DPHY\", \"HINS4\", \"OIP\", \"PAP\", \"RETP\", \"SEMP\", \"SSIP\", \n",
    "         \"SSP\", \"WAGP\", \"DIS\",\"PERNP\", \"PINCP\", \"POWSP\"]] "
   ]
  },
  {
   "cell_type": "code",
   "execution_count": null,
   "id": "5166531c",
   "metadata": {},
   "outputs": [],
   "source": [
    "type(Var_of_int)"
   ]
  },
  {
   "cell_type": "code",
   "execution_count": null,
   "id": "83670e08",
   "metadata": {},
   "outputs": [],
   "source": [
    "Var_of_int.shape"
   ]
  },
  {
   "cell_type": "code",
   "execution_count": null,
   "id": "a83d01a2",
   "metadata": {},
   "outputs": [],
   "source": [
    "Var_of_int.sample(5)"
   ]
  },
  {
   "cell_type": "code",
   "execution_count": null,
   "id": "0d8f36e4",
   "metadata": {},
   "outputs": [],
   "source": [
    "Var_of_int.info()"
   ]
  },
  {
   "cell_type": "code",
   "execution_count": null,
   "id": "83c12a3f",
   "metadata": {
    "scrolled": true
   },
   "outputs": [],
   "source": [
    "Var_of_int.describe(include=object)"
   ]
  },
  {
   "cell_type": "code",
   "execution_count": null,
   "id": "32d08de0",
   "metadata": {
    "scrolled": true
   },
   "outputs": [],
   "source": [
    "Var_of_int.describe()"
   ]
  },
  {
   "cell_type": "code",
   "execution_count": null,
   "id": "35c7cab4",
   "metadata": {},
   "outputs": [],
   "source": [
    "##save the new df\n",
    "Var_of_int.to_csv(\"psam_pusa_working.csv\")"
   ]
  },
  {
   "cell_type": "code",
   "execution_count": null,
   "id": "ce5b3948",
   "metadata": {},
   "outputs": [],
   "source": [
    "df_working = pd.read_csv(\"psam_pusa_working.csv\")"
   ]
  },
  {
   "cell_type": "code",
   "execution_count": null,
   "id": "7a5eb88e",
   "metadata": {},
   "outputs": [],
   "source": [
    "df_working.head(5)"
   ]
  },
  {
   "cell_type": "code",
   "execution_count": null,
   "id": "f2be0464",
   "metadata": {
    "scrolled": true
   },
   "outputs": [],
   "source": [
    "grouped = df_working.groupby(['ST', 'DEYE']).size()\n",
    "print(grouped)"
   ]
  },
  {
   "cell_type": "code",
   "execution_count": null,
   "id": "5251fe1e",
   "metadata": {
    "scrolled": true
   },
   "outputs": [],
   "source": [
    "bins = [0, 18, 30, 40, 50, 60, 70, 120]\n",
    "labels = ['0-17','18-29', '30-39', '40-49', '50-59', '60-69', '70+']\n",
    "df_working['AGE_RANGE'] = pd.cut(df_working.AGEP, bins, labels = labels,include_lowest = True)\n",
    "df_working.head(5)"
   ]
  },
  {
   "cell_type": "code",
   "execution_count": null,
   "id": "720ee6ab",
   "metadata": {
    "scrolled": true
   },
   "outputs": [],
   "source": [
    "df_working['AGE_RANGE'].value_counts()\n",
    "\n",
    "#grouped.plot.bar()"
   ]
  },
  {
   "cell_type": "code",
   "execution_count": null,
   "id": "a77cda48",
   "metadata": {
    "scrolled": true
   },
   "outputs": [],
   "source": [
    "df_working[\"DEYE\"].value_counts()"
   ]
  },
  {
   "cell_type": "code",
   "execution_count": null,
   "id": "53297b7a",
   "metadata": {},
   "outputs": [],
   "source": [
    "deye = {1: 'yes', 2:'no'}\n",
    "df_working[\"DEYE\"] = df_working[\"DEYE\"].map(deye) "
   ]
  },
  {
   "cell_type": "code",
   "execution_count": null,
   "id": "312aaa8f",
   "metadata": {
    "scrolled": true
   },
   "outputs": [],
   "source": [
    "df_working.head()"
   ]
  },
  {
   "cell_type": "code",
   "execution_count": null,
   "id": "6bf95898",
   "metadata": {},
   "outputs": [],
   "source": [
    "df_working['DEYE'].value_counts()"
   ]
  },
  {
   "cell_type": "code",
   "execution_count": null,
   "id": "8c9b49c7",
   "metadata": {
    "scrolled": true
   },
   "outputs": [],
   "source": [
    "df_working[\"ST\"].value_counts()"
   ]
  },
  {
   "cell_type": "code",
   "execution_count": null,
   "id": "a5bcfb00",
   "metadata": {},
   "outputs": [],
   "source": [
    "st = {1: 'Alabama', 2: 'Alaska', 4: 'Arizona', 5: 'Arkansas', 6: 'California', 8: 'Colorado', 9: 'Connecticut',\n",
    "      10: 'Delaware', 11: 'District of Columbia', 12: 'Florida', 13: 'Georgia', 15: 'Hawaii', 16: 'Idaho', 17: 'Illinois',\n",
    "      18: 'Indiana', 19: 'Iowa', 20: 'Kansas', 21: 'Kentucky', 22: 'Louisiana', 23: 'Maine', 24: 'Maryland', \n",
    "      25: 'Massachusetts', 26: 'Michigan', 27: 'Minnesota', 28: 'Mississippi', 29: 'Missouri', 30: 'Montana', 31: 'Nebraska',\n",
    "      32: 'Nevada', 33: 'New Hampshire', 34: 'New Jersey', 35: 'New Mexico', 36: 'New York', 37: 'North Carolina',\n",
    "      38: 'North Dakota', 39: 'Ohio', 40: 'Oklahoma', 41: 'Oregon', 42: 'Pennsylvania', 44: 'Rhode Island',45: 'South Carolina',\n",
    "      46: 'South Dakota', 47: 'Tennessee', 48: 'Texas', 49: 'Utah', 50: 'Vermont', 51: 'Virginia', 53: 'Washington',\n",
    "      54: 'West Virginia', 55: 'Wisconsin', 56: 'Wyoming', 72: 'Puerto Rico'}\n",
    "\n",
    "df_working[\"ST\"] = df_working[\"ST\"].map(st) \n"
   ]
  },
  {
   "cell_type": "code",
   "execution_count": null,
   "id": "eff60022",
   "metadata": {
    "scrolled": true
   },
   "outputs": [],
   "source": [
    "df_working[\"ST\"].value_counts()"
   ]
  },
  {
   "cell_type": "code",
   "execution_count": null,
   "id": "3e48cb24",
   "metadata": {},
   "outputs": [],
   "source": [
    "region = {1: 'Northeast', 2: 'Midwest', 3: 'South', 4: 'West', 9: 'Puerto Rico'}\n",
    "df_working[\"REGION\"] = df_working[\"REGION\"].map(region)"
   ]
  },
  {
   "cell_type": "code",
   "execution_count": null,
   "id": "94e75e0d",
   "metadata": {
    "scrolled": true
   },
   "outputs": [],
   "source": [
    "df_working[\"REGION\"].value_counts()"
   ]
  },
  {
   "cell_type": "code",
   "execution_count": null,
   "id": "9caa4e51",
   "metadata": {},
   "outputs": [],
   "source": [
    "state_dis = df_working.groupby(df_working[\"ST\"]).size()\n",
    "\n",
    "#plt\n",
    "#Var_of_int.plot.bar(x=[\"ST\"], rot=0, color ='r')\n",
    "#plt.title('State distribution ')\n",
    "#plt.ylabel('States')"
   ]
  },
  {
   "cell_type": "code",
   "execution_count": null,
   "id": "70b80b63",
   "metadata": {},
   "outputs": [],
   "source": [
    "state_dis.plot.bar(x=[\"ST\"], color = 'r')"
   ]
  },
  {
   "cell_type": "markdown",
   "id": "9ab45e22",
   "metadata": {
    "scrolled": false
   },
   "source": [
    "agep = Var_of_int.groupby(Var_of_int[\"AGEP\"]).size()\n",
    "print(agep)"
   ]
  },
  {
   "cell_type": "code",
   "execution_count": null,
   "id": "7de7a7e8",
   "metadata": {},
   "outputs": [],
   "source": [
    "nwav = {'b': 'N/A, less than 16 years/at work/not looking', 1:'Yes', 2: 'No, temporarily ill', \n",
    "        3: 'No, other reasons', 4: 'No, unspecified', 5: 'Did not report' }\n",
    "df_working[\"NWAV\"] = df_working[\"NWAV\"].map(nwav)\n",
    "\n",
    "df_working['NWAV'].value_counts()\n"
   ]
  },
  {
   "cell_type": "code",
   "execution_count": null,
   "id": "00136204",
   "metadata": {},
   "outputs": [],
   "source": []
  },
  {
   "cell_type": "code",
   "execution_count": null,
   "id": "57583923",
   "metadata": {},
   "outputs": [],
   "source": []
  }
 ],
 "metadata": {
  "kernelspec": {
   "display_name": "Python 3 (ipykernel)",
   "language": "python",
   "name": "python3"
  },
  "language_info": {
   "codemirror_mode": {
    "name": "ipython",
    "version": 3
   },
   "file_extension": ".py",
   "mimetype": "text/x-python",
   "name": "python",
   "nbconvert_exporter": "python",
   "pygments_lexer": "ipython3",
   "version": "3.9.7"
  }
 },
 "nbformat": 4,
 "nbformat_minor": 5
}
