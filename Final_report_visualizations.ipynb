{
 "cells": [
  {
   "cell_type": "code",
   "execution_count": 1,
   "id": "43436262",
   "metadata": {},
   "outputs": [],
   "source": [
    "import pandas as pd\n",
    "import numpy as np\n",
    "import matplotlib.pyplot as plt\n",
    "import seaborn as sns\n",
    "import math"
   ]
  },
  {
   "cell_type": "code",
   "execution_count": 2,
   "id": "1264895c",
   "metadata": {},
   "outputs": [],
   "source": [
    "#reading the dataset all the respondents who self reported as havin vision difficulty, with specific columns of interest\n",
    "df = pd.read_csv(\"psam_pusab_working_data.csv\")"
   ]
  },
  {
   "cell_type": "code",
   "execution_count": 3,
   "id": "d90b521e",
   "metadata": {},
   "outputs": [
    {
     "data": {
      "text/plain": [
       "(82994, 52)"
      ]
     },
     "execution_count": 3,
     "metadata": {},
     "output_type": "execute_result"
    }
   ],
   "source": [
    "df.shape"
   ]
  },
  {
   "cell_type": "code",
   "execution_count": 4,
   "id": "711d23aa",
   "metadata": {},
   "outputs": [
    {
     "data": {
      "text/plain": [
       "Index(['Unnamed: 0', 'Unnamed: 0.1', 'REGION', 'DIVISION', 'ST', 'AGEP', 'COW',\n",
       "       'DEYE', 'NWAV', 'NWLA', 'NWLK', 'SCH', 'SCHG', 'SCHL', 'SEX', 'WKL',\n",
       "       'DIS', 'ESR', 'FOD1P', 'FOD2P', 'HICOV', 'INDP', 'NAICSP', 'OCCP',\n",
       "       'PERNP', 'PINCP', 'POWSP', 'RAC1P', 'RAC2P', 'RAC3P', 'RACAIAN',\n",
       "       'RACASN', 'RACBLK', 'RACWHT', 'SCIENGP', 'SCIENGRLP', 'SOCP', 'FDEYEP',\n",
       "       'ADJINC', 'DDRS', 'DEAR', 'DOUT', 'DPHY', 'HINS4', 'OIP', 'PAP', 'RETP',\n",
       "       'SEMP', 'SSIP', 'SSP', 'WAGP', 'PWGTP'],\n",
       "      dtype='object')"
      ]
     },
     "execution_count": 4,
     "metadata": {},
     "output_type": "execute_result"
    }
   ],
   "source": [
    "df.columns"
   ]
  },
  {
   "cell_type": "code",
   "execution_count": 5,
   "id": "5dcd07c5",
   "metadata": {},
   "outputs": [
    {
     "data": {
      "text/html": [
       "<div>\n",
       "<style scoped>\n",
       "    .dataframe tbody tr th:only-of-type {\n",
       "        vertical-align: middle;\n",
       "    }\n",
       "\n",
       "    .dataframe tbody tr th {\n",
       "        vertical-align: top;\n",
       "    }\n",
       "\n",
       "    .dataframe thead th {\n",
       "        text-align: right;\n",
       "    }\n",
       "</style>\n",
       "<table border=\"1\" class=\"dataframe\">\n",
       "  <thead>\n",
       "    <tr style=\"text-align: right;\">\n",
       "      <th></th>\n",
       "      <th>REGION</th>\n",
       "      <th>DIVISION</th>\n",
       "      <th>ST</th>\n",
       "      <th>AGEP</th>\n",
       "      <th>COW</th>\n",
       "      <th>DEYE</th>\n",
       "      <th>NWAV</th>\n",
       "      <th>NWLA</th>\n",
       "      <th>NWLK</th>\n",
       "      <th>SCH</th>\n",
       "      <th>...</th>\n",
       "      <th>DPHY</th>\n",
       "      <th>HINS4</th>\n",
       "      <th>OIP</th>\n",
       "      <th>PAP</th>\n",
       "      <th>RETP</th>\n",
       "      <th>SEMP</th>\n",
       "      <th>SSIP</th>\n",
       "      <th>SSP</th>\n",
       "      <th>WAGP</th>\n",
       "      <th>PWGTP</th>\n",
       "    </tr>\n",
       "  </thead>\n",
       "  <tbody>\n",
       "    <tr>\n",
       "      <th>0</th>\n",
       "      <td>2</td>\n",
       "      <td>4</td>\n",
       "      <td>29</td>\n",
       "      <td>41</td>\n",
       "      <td>NaN</td>\n",
       "      <td>1</td>\n",
       "      <td>5.0</td>\n",
       "      <td>3.0</td>\n",
       "      <td>3.0</td>\n",
       "      <td>1.0</td>\n",
       "      <td>...</td>\n",
       "      <td>2.0</td>\n",
       "      <td>1</td>\n",
       "      <td>0.0</td>\n",
       "      <td>0.0</td>\n",
       "      <td>600.0</td>\n",
       "      <td>0.0</td>\n",
       "      <td>0.0</td>\n",
       "      <td>0.0</td>\n",
       "      <td>0.0</td>\n",
       "      <td>61</td>\n",
       "    </tr>\n",
       "    <tr>\n",
       "      <th>1</th>\n",
       "      <td>2</td>\n",
       "      <td>4</td>\n",
       "      <td>29</td>\n",
       "      <td>72</td>\n",
       "      <td>NaN</td>\n",
       "      <td>1</td>\n",
       "      <td>5.0</td>\n",
       "      <td>3.0</td>\n",
       "      <td>3.0</td>\n",
       "      <td>1.0</td>\n",
       "      <td>...</td>\n",
       "      <td>1.0</td>\n",
       "      <td>1</td>\n",
       "      <td>0.0</td>\n",
       "      <td>0.0</td>\n",
       "      <td>0.0</td>\n",
       "      <td>0.0</td>\n",
       "      <td>0.0</td>\n",
       "      <td>8900.0</td>\n",
       "      <td>0.0</td>\n",
       "      <td>107</td>\n",
       "    </tr>\n",
       "    <tr>\n",
       "      <th>2</th>\n",
       "      <td>2</td>\n",
       "      <td>4</td>\n",
       "      <td>29</td>\n",
       "      <td>85</td>\n",
       "      <td>NaN</td>\n",
       "      <td>1</td>\n",
       "      <td>5.0</td>\n",
       "      <td>3.0</td>\n",
       "      <td>3.0</td>\n",
       "      <td>1.0</td>\n",
       "      <td>...</td>\n",
       "      <td>2.0</td>\n",
       "      <td>2</td>\n",
       "      <td>0.0</td>\n",
       "      <td>0.0</td>\n",
       "      <td>0.0</td>\n",
       "      <td>0.0</td>\n",
       "      <td>0.0</td>\n",
       "      <td>10800.0</td>\n",
       "      <td>0.0</td>\n",
       "      <td>125</td>\n",
       "    </tr>\n",
       "    <tr>\n",
       "      <th>3</th>\n",
       "      <td>2</td>\n",
       "      <td>4</td>\n",
       "      <td>29</td>\n",
       "      <td>85</td>\n",
       "      <td>NaN</td>\n",
       "      <td>1</td>\n",
       "      <td>5.0</td>\n",
       "      <td>3.0</td>\n",
       "      <td>3.0</td>\n",
       "      <td>1.0</td>\n",
       "      <td>...</td>\n",
       "      <td>2.0</td>\n",
       "      <td>2</td>\n",
       "      <td>0.0</td>\n",
       "      <td>0.0</td>\n",
       "      <td>0.0</td>\n",
       "      <td>0.0</td>\n",
       "      <td>0.0</td>\n",
       "      <td>10800.0</td>\n",
       "      <td>0.0</td>\n",
       "      <td>11</td>\n",
       "    </tr>\n",
       "    <tr>\n",
       "      <th>4</th>\n",
       "      <td>2</td>\n",
       "      <td>4</td>\n",
       "      <td>29</td>\n",
       "      <td>52</td>\n",
       "      <td>NaN</td>\n",
       "      <td>1</td>\n",
       "      <td>5.0</td>\n",
       "      <td>2.0</td>\n",
       "      <td>2.0</td>\n",
       "      <td>1.0</td>\n",
       "      <td>...</td>\n",
       "      <td>2.0</td>\n",
       "      <td>1</td>\n",
       "      <td>0.0</td>\n",
       "      <td>0.0</td>\n",
       "      <td>0.0</td>\n",
       "      <td>0.0</td>\n",
       "      <td>0.0</td>\n",
       "      <td>0.0</td>\n",
       "      <td>0.0</td>\n",
       "      <td>9</td>\n",
       "    </tr>\n",
       "    <tr>\n",
       "      <th>...</th>\n",
       "      <td>...</td>\n",
       "      <td>...</td>\n",
       "      <td>...</td>\n",
       "      <td>...</td>\n",
       "      <td>...</td>\n",
       "      <td>...</td>\n",
       "      <td>...</td>\n",
       "      <td>...</td>\n",
       "      <td>...</td>\n",
       "      <td>...</td>\n",
       "      <td>...</td>\n",
       "      <td>...</td>\n",
       "      <td>...</td>\n",
       "      <td>...</td>\n",
       "      <td>...</td>\n",
       "      <td>...</td>\n",
       "      <td>...</td>\n",
       "      <td>...</td>\n",
       "      <td>...</td>\n",
       "      <td>...</td>\n",
       "      <td>...</td>\n",
       "    </tr>\n",
       "    <tr>\n",
       "      <th>82989</th>\n",
       "      <td>3</td>\n",
       "      <td>6</td>\n",
       "      <td>28</td>\n",
       "      <td>65</td>\n",
       "      <td>NaN</td>\n",
       "      <td>1</td>\n",
       "      <td>5.0</td>\n",
       "      <td>2.0</td>\n",
       "      <td>2.0</td>\n",
       "      <td>1.0</td>\n",
       "      <td>...</td>\n",
       "      <td>1.0</td>\n",
       "      <td>2</td>\n",
       "      <td>0.0</td>\n",
       "      <td>0.0</td>\n",
       "      <td>6400.0</td>\n",
       "      <td>0.0</td>\n",
       "      <td>0.0</td>\n",
       "      <td>7600.0</td>\n",
       "      <td>0.0</td>\n",
       "      <td>229</td>\n",
       "    </tr>\n",
       "    <tr>\n",
       "      <th>82990</th>\n",
       "      <td>3</td>\n",
       "      <td>6</td>\n",
       "      <td>28</td>\n",
       "      <td>69</td>\n",
       "      <td>NaN</td>\n",
       "      <td>1</td>\n",
       "      <td>5.0</td>\n",
       "      <td>2.0</td>\n",
       "      <td>2.0</td>\n",
       "      <td>1.0</td>\n",
       "      <td>...</td>\n",
       "      <td>1.0</td>\n",
       "      <td>2</td>\n",
       "      <td>0.0</td>\n",
       "      <td>0.0</td>\n",
       "      <td>0.0</td>\n",
       "      <td>0.0</td>\n",
       "      <td>0.0</td>\n",
       "      <td>13500.0</td>\n",
       "      <td>0.0</td>\n",
       "      <td>221</td>\n",
       "    </tr>\n",
       "    <tr>\n",
       "      <th>82991</th>\n",
       "      <td>3</td>\n",
       "      <td>6</td>\n",
       "      <td>28</td>\n",
       "      <td>49</td>\n",
       "      <td>1.0</td>\n",
       "      <td>1</td>\n",
       "      <td>1.0</td>\n",
       "      <td>2.0</td>\n",
       "      <td>2.0</td>\n",
       "      <td>1.0</td>\n",
       "      <td>...</td>\n",
       "      <td>2.0</td>\n",
       "      <td>2</td>\n",
       "      <td>0.0</td>\n",
       "      <td>0.0</td>\n",
       "      <td>0.0</td>\n",
       "      <td>0.0</td>\n",
       "      <td>0.0</td>\n",
       "      <td>0.0</td>\n",
       "      <td>45000.0</td>\n",
       "      <td>26</td>\n",
       "    </tr>\n",
       "    <tr>\n",
       "      <th>82992</th>\n",
       "      <td>3</td>\n",
       "      <td>6</td>\n",
       "      <td>28</td>\n",
       "      <td>13</td>\n",
       "      <td>NaN</td>\n",
       "      <td>1</td>\n",
       "      <td>NaN</td>\n",
       "      <td>NaN</td>\n",
       "      <td>NaN</td>\n",
       "      <td>2.0</td>\n",
       "      <td>...</td>\n",
       "      <td>1.0</td>\n",
       "      <td>1</td>\n",
       "      <td>NaN</td>\n",
       "      <td>NaN</td>\n",
       "      <td>NaN</td>\n",
       "      <td>NaN</td>\n",
       "      <td>NaN</td>\n",
       "      <td>NaN</td>\n",
       "      <td>NaN</td>\n",
       "      <td>37</td>\n",
       "    </tr>\n",
       "    <tr>\n",
       "      <th>82993</th>\n",
       "      <td>3</td>\n",
       "      <td>6</td>\n",
       "      <td>28</td>\n",
       "      <td>83</td>\n",
       "      <td>NaN</td>\n",
       "      <td>1</td>\n",
       "      <td>3.0</td>\n",
       "      <td>2.0</td>\n",
       "      <td>2.0</td>\n",
       "      <td>1.0</td>\n",
       "      <td>...</td>\n",
       "      <td>2.0</td>\n",
       "      <td>2</td>\n",
       "      <td>0.0</td>\n",
       "      <td>0.0</td>\n",
       "      <td>0.0</td>\n",
       "      <td>0.0</td>\n",
       "      <td>0.0</td>\n",
       "      <td>0.0</td>\n",
       "      <td>0.0</td>\n",
       "      <td>60</td>\n",
       "    </tr>\n",
       "  </tbody>\n",
       "</table>\n",
       "<p>82994 rows × 50 columns</p>\n",
       "</div>"
      ],
      "text/plain": [
       "       REGION  DIVISION  ST  AGEP  COW  DEYE  NWAV  NWLA  NWLK  SCH  ...  \\\n",
       "0           2         4  29    41  NaN     1   5.0   3.0   3.0  1.0  ...   \n",
       "1           2         4  29    72  NaN     1   5.0   3.0   3.0  1.0  ...   \n",
       "2           2         4  29    85  NaN     1   5.0   3.0   3.0  1.0  ...   \n",
       "3           2         4  29    85  NaN     1   5.0   3.0   3.0  1.0  ...   \n",
       "4           2         4  29    52  NaN     1   5.0   2.0   2.0  1.0  ...   \n",
       "...       ...       ...  ..   ...  ...   ...   ...   ...   ...  ...  ...   \n",
       "82989       3         6  28    65  NaN     1   5.0   2.0   2.0  1.0  ...   \n",
       "82990       3         6  28    69  NaN     1   5.0   2.0   2.0  1.0  ...   \n",
       "82991       3         6  28    49  1.0     1   1.0   2.0   2.0  1.0  ...   \n",
       "82992       3         6  28    13  NaN     1   NaN   NaN   NaN  2.0  ...   \n",
       "82993       3         6  28    83  NaN     1   3.0   2.0   2.0  1.0  ...   \n",
       "\n",
       "       DPHY  HINS4  OIP  PAP    RETP  SEMP  SSIP      SSP     WAGP  PWGTP  \n",
       "0       2.0      1  0.0  0.0   600.0   0.0   0.0      0.0      0.0     61  \n",
       "1       1.0      1  0.0  0.0     0.0   0.0   0.0   8900.0      0.0    107  \n",
       "2       2.0      2  0.0  0.0     0.0   0.0   0.0  10800.0      0.0    125  \n",
       "3       2.0      2  0.0  0.0     0.0   0.0   0.0  10800.0      0.0     11  \n",
       "4       2.0      1  0.0  0.0     0.0   0.0   0.0      0.0      0.0      9  \n",
       "...     ...    ...  ...  ...     ...   ...   ...      ...      ...    ...  \n",
       "82989   1.0      2  0.0  0.0  6400.0   0.0   0.0   7600.0      0.0    229  \n",
       "82990   1.0      2  0.0  0.0     0.0   0.0   0.0  13500.0      0.0    221  \n",
       "82991   2.0      2  0.0  0.0     0.0   0.0   0.0      0.0  45000.0     26  \n",
       "82992   1.0      1  NaN  NaN     NaN   NaN   NaN      NaN      NaN     37  \n",
       "82993   2.0      2  0.0  0.0     0.0   0.0   0.0      0.0      0.0     60  \n",
       "\n",
       "[82994 rows x 50 columns]"
      ]
     },
     "execution_count": 5,
     "metadata": {},
     "output_type": "execute_result"
    }
   ],
   "source": [
    "df.drop(columns = [\"Unnamed: 0\", \"Unnamed: 0.1\"])"
   ]
  },
  {
   "cell_type": "code",
   "execution_count": 6,
   "id": "5e1cd44e",
   "metadata": {},
   "outputs": [
    {
     "data": {
      "text/plain": [
       "5.0    71837\n",
       "3.0     3547\n",
       "1.0     2052\n",
       "2.0     1645\n",
       "Name: NWAV, dtype: int64"
      ]
     },
     "execution_count": 6,
     "metadata": {},
     "output_type": "execute_result"
    }
   ],
   "source": [
    "df['NWAV'].value_counts()"
   ]
  },
  {
   "cell_type": "code",
   "execution_count": 7,
   "id": "d2a47a6a",
   "metadata": {},
   "outputs": [
    {
     "data": {
      "text/plain": [
       "2.0    44838\n",
       "3.0    32202\n",
       "1.0     2041\n",
       "Name: NWLK, dtype: int64"
      ]
     },
     "execution_count": 7,
     "metadata": {},
     "output_type": "execute_result"
    }
   ],
   "source": [
    "df['NWLK'].value_counts()"
   ]
  },
  {
   "cell_type": "code",
   "execution_count": 8,
   "id": "40275274",
   "metadata": {
    "scrolled": true
   },
   "outputs": [
    {
     "data": {
      "text/plain": [
       "16.0    22155\n",
       "19.0    10119\n",
       "21.0     7860\n",
       "18.0     5543\n",
       "20.0     5144\n",
       "17.0     4691\n",
       "22.0     3379\n",
       "1.0      3339\n",
       "14.0     3014\n",
       "13.0     2979\n",
       "11.0     2536\n",
       "15.0     2432\n",
       "12.0     2358\n",
       "9.0      1345\n",
       "10.0     1094\n",
       "23.0      879\n",
       "8.0       721\n",
       "6.0       694\n",
       "24.0      668\n",
       "7.0       606\n",
       "5.0       391\n",
       "4.0       282\n",
       "3.0       280\n",
       "2.0       209\n",
       "Name: SCHL, dtype: int64"
      ]
     },
     "execution_count": 8,
     "metadata": {},
     "output_type": "execute_result"
    }
   ],
   "source": [
    "df['SCHL'].value_counts()\n"
   ]
  },
  {
   "cell_type": "code",
   "execution_count": 9,
   "id": "a8aac1d6",
   "metadata": {},
   "outputs": [
    {
     "data": {
      "text/plain": [
       "2.0    8667\n",
       "1.0    4119\n",
       "Name: SCIENGP, dtype: int64"
      ]
     },
     "execution_count": 9,
     "metadata": {},
     "output_type": "execute_result"
    }
   ],
   "source": [
    "df['SCIENGP'].value_counts()"
   ]
  },
  {
   "cell_type": "code",
   "execution_count": 10,
   "id": "1d5b0343",
   "metadata": {},
   "outputs": [
    {
     "data": {
      "text/plain": [
       "2300.0    904\n",
       "6203.0    703\n",
       "6107.0    675\n",
       "2304.0    606\n",
       "6200.0    585\n",
       "         ... \n",
       "1199.0      1\n",
       "5001.0      1\n",
       "2416.0      1\n",
       "4006.0      1\n",
       "6202.0      1\n",
       "Name: FOD1P, Length: 172, dtype: int64"
      ]
     },
     "execution_count": 10,
     "metadata": {},
     "output_type": "execute_result"
    }
   ],
   "source": [
    "df['FOD1P'].value_counts()"
   ]
  },
  {
   "cell_type": "code",
   "execution_count": 11,
   "id": "398f80ba",
   "metadata": {
    "scrolled": true
   },
   "outputs": [],
   "source": [
    "dw = pd.ExcelFile(\"Desktop/Copy of WebAIMMillionTopBottom50000.xlsx\")"
   ]
  },
  {
   "cell_type": "code",
   "execution_count": 12,
   "id": "a84c510d",
   "metadata": {},
   "outputs": [
    {
     "data": {
      "text/plain": [
       "['MillionTop50000', 'MillionBottom50000']"
      ]
     },
     "execution_count": 12,
     "metadata": {},
     "output_type": "execute_result"
    }
   ],
   "source": [
    "dw.sheet_names"
   ]
  },
  {
   "cell_type": "code",
   "execution_count": 13,
   "id": "f0b25a1e",
   "metadata": {},
   "outputs": [],
   "source": [
    "top = pd.read_excel(dw, 'MillionTop50000')\n",
    "bottom = pd.read_excel(dw, 'MillionBottom50000')"
   ]
  },
  {
   "cell_type": "code",
   "execution_count": 14,
   "id": "aa6b2955",
   "metadata": {
    "scrolled": true
   },
   "outputs": [
    {
     "name": "stdout",
     "output_type": "stream",
     "text": [
      "<class 'pandas.core.frame.DataFrame'>\n",
      "RangeIndex: 100000 entries, 0 to 99999\n",
      "Columns: 125 entries, index to ul\n",
      "dtypes: float64(2), int64(119), object(4)\n",
      "memory usage: 95.4+ MB\n"
     ]
    }
   ],
   "source": [
    "WAM = pd.concat([top, bottom]).reset_index()\n",
    "WAM.info()"
   ]
  },
  {
   "cell_type": "code",
   "execution_count": 15,
   "id": "e8d558f5",
   "metadata": {
    "scrolled": true
   },
   "outputs": [
    {
     "data": {
      "text/plain": [
       "Index(['index', 'rank', 'URL', 'TLD', 'accessrank', 'totalerrors',\n",
       "       'totalelements', 'errordensity', 'totalalerts', 'accessrank3',\n",
       "       ...\n",
       "       'h5', 'h6', 'iframe', 'ol', 'table_caption', 'table_data', 'th',\n",
       "       'th_col', 'th_row', 'ul'],\n",
       "      dtype='object', length=125)"
      ]
     },
     "execution_count": 15,
     "metadata": {},
     "output_type": "execute_result"
    }
   ],
   "source": [
    "WAM.columns"
   ]
  },
  {
   "cell_type": "code",
   "execution_count": null,
   "id": "2c715634",
   "metadata": {},
   "outputs": [],
   "source": [
    "WAM['CAT']=no.where(WAM['categories'].str.contains('IAB22'), shopping)"
   ]
  },
  {
   "cell_type": "code",
   "execution_count": null,
   "id": "5e7e4897",
   "metadata": {},
   "outputs": [],
   "source": [
    "WAM['']df[“column_name”] = np.where(df[“column_name”]==”some_value”, value_if_true, value_if_false)"
   ]
  },
  {
   "cell_type": "code",
   "execution_count": null,
   "id": "a4e20b6f",
   "metadata": {},
   "outputs": [],
   "source": [
    "\n",
    "allDat=pd.concat([top,bottom]).reset_index()\n",
    "allDat=allDat.drop(columns=['index'])\n",
    "\n",
    "shopTop = top.loc[top['categories'].str.contains('IAB22', na=False)]\n",
    "shopBottom = bottom.loc[bottom['categories'].str.contains('IAB22', na=False)]\n",
    "#select all other data for comparisons\n",
    "otherTop = top.loc[~top['categories'].str.contains('IAB22', na=False)]\n",
    "otherBottom = bottom.loc[~bottom['categories'].str.contains('IAB22', na=False)]\n"
   ]
  },
  {
   "cell_type": "code",
   "execution_count": null,
   "id": "34bfb68b",
   "metadata": {},
   "outputs": [],
   "source": []
  }
 ],
 "metadata": {
  "kernelspec": {
   "display_name": "Python 3 (ipykernel)",
   "language": "python",
   "name": "python3"
  },
  "language_info": {
   "codemirror_mode": {
    "name": "ipython",
    "version": 3
   },
   "file_extension": ".py",
   "mimetype": "text/x-python",
   "name": "python",
   "nbconvert_exporter": "python",
   "pygments_lexer": "ipython3",
   "version": "3.9.7"
  }
 },
 "nbformat": 4,
 "nbformat_minor": 5
}
